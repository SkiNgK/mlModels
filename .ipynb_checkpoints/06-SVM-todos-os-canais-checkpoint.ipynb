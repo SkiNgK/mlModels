{
 "cells": [
  {
   "cell_type": "markdown",
   "metadata": {},
   "source": [
    "classificar em 2 a 8 hz"
   ]
  },
  {
   "cell_type": "code",
   "execution_count": 1,
   "metadata": {},
   "outputs": [],
   "source": [
    "import pyedflib\n",
    "import pandas as pd\n",
    "import numpy as np\n",
    "import matplotlib.pyplot as plt\n",
    "\n",
    "from scipy.fftpack import rfft, irfft, fftfreq\n",
    "import scipy as sp\n",
    "from scipy import signal\n",
    "\n",
    "import os\n",
    "import itertools\n",
    "\n",
    "from sklearn.svm import SVC\n",
    "from sklearn.metrics import classification_report, confusion_matrix\n",
    "from sklearn.model_selection import train_test_split, GridSearchCV\n",
    "\n",
    "%matplotlib inline"
   ]
  },
  {
   "cell_type": "code",
   "execution_count": 2,
   "metadata": {},
   "outputs": [],
   "source": [
    "HOME = \"/Users/jonat/OneDrive/Documents/Protocolo_PKS/Protocolo_PKS/dados_edf/DB_REPO/edf/\"\n",
    "def dadosPK(tipo):\n",
    "    dir_ct = HOME+tipo+\"/\"\n",
    "    return os.listdir(HOME+tipo+\"/\")"
   ]
  },
  {
   "cell_type": "code",
   "execution_count": 3,
   "metadata": {},
   "outputs": [],
   "source": [
    "def carregarDataFrame(tipo, caminho):\n",
    "    caminho = HOME+tipo+\"/\"+caminho\n",
    "    \n",
    "    edf = pyedflib.EdfReader(caminho)\n",
    "    n = edf.signals_in_file\n",
    "    sigbufs = np.zeros((n, edf.getNSamples()[0]))\n",
    "    for i in np.arange(n):\n",
    "         sigbufs[i, :] = edf.readSignal(i)\n",
    "    edf._close()\n",
    "    del edf\n",
    "\n",
    "    return pd.DataFrame(data=sigbufs.T, columns=['ch1', 'ch2', 'ch3', 'ch4'])"
   ]
  },
  {
   "cell_type": "code",
   "execution_count": 4,
   "metadata": {},
   "outputs": [],
   "source": [
    "def plot_confusion_matrix(cm, classes, normalize=False, title='Matriz de confusão, sem normalização', cmap=plt.cm.Blues):\n",
    "    \"\"\"\n",
    "    This function prints and plots the confusion matrix.\n",
    "    Normalization can be applied by setting `normalize=True`.\n",
    "    \"\"\"\n",
    "    if normalize:\n",
    "        cm = cm.astype('float') / cm.sum(axis=1)[:, np.newaxis]\n",
    "    plt.figure(figsize=(12,6))\n",
    "    plt.imshow(cm, interpolation='nearest', cmap=cmap)\n",
    "    plt.title(title)\n",
    "    plt.colorbar()\n",
    "    tick_marks = np.arange(len(classes))\n",
    "    plt.xticks(tick_marks, classes, rotation=45)\n",
    "    plt.yticks(tick_marks, classes)\n",
    "\n",
    "    fmt = '.2f' if normalize else 'd'\n",
    "    thresh = cm.max() / 2.\n",
    "    for i, j in itertools.product(range(cm.shape[0]), range(cm.shape[1])):\n",
    "        plt.text(j, i, format(cm[i, j], fmt),\n",
    "                 horizontalalignment=\"center\",\n",
    "                 color=\"white\" if cm[i, j] > thresh else \"black\")\n",
    "\n",
    "    plt.tight_layout()\n",
    "    plt.ylabel('Esperado')\n",
    "    plt.xlabel('Obtido')"
   ]
  },
  {
   "cell_type": "code",
   "execution_count": 5,
   "metadata": {},
   "outputs": [],
   "source": [
    "def bandpass_filter(emg, low_pass=10., sfreq=2000., high_band=20., low_band=450.):\n",
    "    # create bandpass filter for EMG\n",
    "    high = high_band/(sfreq/2)\n",
    "    low = low_band/(sfreq/2)\n",
    "    b, a = sp.signal.butter(4, [high,low], btype='bandpass')\n",
    "\n",
    "    # process EMG signal: filter EMG\n",
    "    return sp.signal.filtfilt(b, a, emg)"
   ]
  },
  {
   "cell_type": "code",
   "execution_count": 6,
   "metadata": {},
   "outputs": [],
   "source": [
    "def lowpass_filter(emg, low_pass=10., sfreq=2000., high_band=20., low_band=450.):\n",
    "    low_pass = low_pass/sfreq\n",
    "    b2, a2 = sp.signal.butter(4, low_pass, btype='lowpass')\n",
    "    return sp.signal.filtfilt(b2, a2, emg)"
   ]
  },
  {
   "cell_type": "code",
   "execution_count": 7,
   "metadata": {},
   "outputs": [],
   "source": [
    "def fft(df, canal):\n",
    "    amostras = int(df[canal][2000:11000].shape[0]*500/2000)\n",
    "    sinal = np.abs(np.fft.fft(df[canal][2000:11000]))[:amostras]\n",
    "    freq = np.linspace(0,500,amostras)\n",
    "    return (sinal,freq)\n",
    "\n",
    "def frequecia(df, canal):\n",
    "    sinalFFT = [lowpass_filter(fft(data, canal)[0]) for data in df]\n",
    "    return sinalFFT\n",
    "\n",
    "def plotarFFT(a, b, titulo):\n",
    "    plt.title(titulo)\n",
    "    plt.plot(b,a)\n",
    "    plt.xlim([0,500])\n",
    "    plt.ylim([0,5000])\n",
    "    plt.show"
   ]
  },
  {
   "cell_type": "code",
   "execution_count": 8,
   "metadata": {},
   "outputs": [],
   "source": [
    "nomes_parkinson = dadosPK('parkinson')\n",
    "nomes_controle = dadosPK('controle')\n",
    "df_ct = [ carregarDataFrame('controle', nome) for nome in nomes_controle]\n",
    "df_pk = [ carregarDataFrame('parkinson', nome) for nome in nomes_parkinson]"
   ]
  },
  {
   "cell_type": "markdown",
   "metadata": {},
   "source": [
    "# Filtrando os dados com a fft"
   ]
  },
  {
   "cell_type": "code",
   "execution_count": 9,
   "metadata": {},
   "outputs": [
    {
     "data": {
      "text/plain": [
       "[<matplotlib.lines.Line2D at 0x21bd4dec550>]"
      ]
     },
     "execution_count": 9,
     "metadata": {},
     "output_type": "execute_result"
    },
    {
     "data": {
      "image/png": "[encoded data removed]",
      "text/plain": [
       "<Figure size 432x288 with 1 Axes>"
      ]
     },
     "metadata": {},
     "output_type": "display_data"
    }
   ],
   "source": [
    "sinalCT = frequecia(df_ct, 'ch1')\n",
    "sinalPK = frequecia(df_pk, 'ch1')\n",
    "\n",
    "\n",
    "rotulosCT = [0 for _ in sinalCT]\n",
    "rotulosPK = [1 for _ in sinalPK]\n",
    "plt.plot(sinalCT[0])"
   ]
  },
  {
   "cell_type": "markdown",
   "metadata": {},
   "source": [
    "## Separando os dados (Treino, teste e validação)"
   ]
  },
  {
   "cell_type": "code",
   "execution_count": 10,
   "metadata": {},
   "outputs": [],
   "source": [
    "amostras = sinalCT + sinalPK"
   ]
  },
  {
   "cell_type": "code",
   "execution_count": 11,
   "metadata": {},
   "outputs": [],
   "source": [
    "trainData = sinalCT + sinalPK\n",
    "rotulos = rotulosCT + rotulosPK"
   ]
  },
  {
   "cell_type": "code",
   "execution_count": 12,
   "metadata": {},
   "outputs": [],
   "source": [
    "# Croos validation\n",
    "X_train, X_test, y_train, y_test = train_test_split(trainData, rotulos, test_size=0.2)\n",
    "#X_validate, X_test, y_validade, y_test = train_test_split(X_test, y_test, test_size=0.5)"
   ]
  },
  {
   "cell_type": "markdown",
   "metadata": {},
   "source": [
    "# Croos validation\n",
    "X_train, X_test, y_train, y_teste = train_test_split(trainData, rotulos, test_size=0.3)"
   ]
  },
  {
   "cell_type": "markdown",
   "metadata": {},
   "source": [
    "## Selhecionando melhores parametros"
   ]
  },
  {
   "cell_type": "code",
   "execution_count": 13,
   "metadata": {},
   "outputs": [],
   "source": [
    "param_grid = [\n",
    "    {'C': [10, 1, 0.1], 'gamma': [0.001, 0.0001], 'kernel':['poly'], 'degree':[3,4]}\n",
    "]"
   ]
  },
  {
   "cell_type": "code",
   "execution_count": 14,
   "metadata": {},
   "outputs": [],
   "source": [
    "grid = GridSearchCV(SVC(), param_grid, refit=True, verbose=3)"
   ]
  },
  {
   "cell_type": "markdown",
   "metadata": {},
   "source": [
    "## Treinando"
   ]
  },
  {
   "cell_type": "code",
   "execution_count": 15,
   "metadata": {},
   "outputs": [
    {
     "name": "stdout",
     "output_type": "stream",
     "text": [
      "Fitting 3 folds for each of 12 candidates, totalling 36 fits\n",
      "[CV] C=10, degree=3, gamma=0.001, kernel=poly ........................\n",
      "[CV]  C=10, degree=3, gamma=0.001, kernel=poly, score=0.782608695652174, total=   0.1s\n",
      "[CV] C=10, degree=3, gamma=0.001, kernel=poly ........................\n",
      "[CV]  C=10, degree=3, gamma=0.001, kernel=poly, score=0.6363636363636364, total=   0.0s\n",
      "[CV] C=10, degree=3, gamma=0.001, kernel=poly ........................\n"
     ]
    },
    {
     "name": "stderr",
     "output_type": "stream",
     "text": [
      "[Parallel(n_jobs=1)]: Done   1 out of   1 | elapsed:    0.1s remaining:    0.0s\n",
      "[Parallel(n_jobs=1)]: Done   2 out of   2 | elapsed:    0.1s remaining:    0.0s\n"
     ]
    },
    {
     "name": "stdout",
     "output_type": "stream",
     "text": [
      "[CV]  C=10, degree=3, gamma=0.001, kernel=poly, score=0.7727272727272727, total=   0.0s\n",
      "[CV] C=10, degree=3, gamma=0.0001, kernel=poly .......................\n",
      "[CV]  C=10, degree=3, gamma=0.0001, kernel=poly, score=0.782608695652174, total=   0.1s\n",
      "[CV] C=10, degree=3, gamma=0.0001, kernel=poly .......................\n",
      "[CV]  C=10, degree=3, gamma=0.0001, kernel=poly, score=0.6363636363636364, total=   0.0s\n",
      "[CV] C=10, degree=3, gamma=0.0001, kernel=poly .......................\n",
      "[CV]  C=10, degree=3, gamma=0.0001, kernel=poly, score=0.7727272727272727, total=   0.0s\n",
      "[CV] C=10, degree=4, gamma=0.001, kernel=poly ........................\n",
      "[CV]  C=10, degree=4, gamma=0.001, kernel=poly, score=0.782608695652174, total=   0.0s\n",
      "[CV] C=10, degree=4, gamma=0.001, kernel=poly ........................\n",
      "[CV]  C=10, degree=4, gamma=0.001, kernel=poly, score=0.6818181818181818, total=   0.0s\n",
      "[CV] C=10, degree=4, gamma=0.001, kernel=poly ........................\n",
      "[CV]  C=10, degree=4, gamma=0.001, kernel=poly, score=0.7727272727272727, total=   0.0s\n",
      "[CV] C=10, degree=4, gamma=0.0001, kernel=poly .......................\n",
      "[CV]  C=10, degree=4, gamma=0.0001, kernel=poly, score=0.782608695652174, total=   0.0s\n",
      "[CV] C=10, degree=4, gamma=0.0001, kernel=poly .......................\n",
      "[CV]  C=10, degree=4, gamma=0.0001, kernel=poly, score=0.6818181818181818, total=   0.0s\n",
      "[CV] C=10, degree=4, gamma=0.0001, kernel=poly .......................\n",
      "[CV]  C=10, degree=4, gamma=0.0001, kernel=poly, score=0.7727272727272727, total=   0.0s\n",
      "[CV] C=1, degree=3, gamma=0.001, kernel=poly .........................\n",
      "[CV]  C=1, degree=3, gamma=0.001, kernel=poly, score=0.782608695652174, total=   0.1s\n",
      "[CV] C=1, degree=3, gamma=0.001, kernel=poly .........................\n",
      "[CV]  C=1, degree=3, gamma=0.001, kernel=poly, score=0.6363636363636364, total=   0.0s\n",
      "[CV] C=1, degree=3, gamma=0.001, kernel=poly .........................\n",
      "[CV]  C=1, degree=3, gamma=0.001, kernel=poly, score=0.7727272727272727, total=   0.0s\n",
      "[CV] C=1, degree=3, gamma=0.0001, kernel=poly ........................\n",
      "[CV]  C=1, degree=3, gamma=0.0001, kernel=poly, score=0.782608695652174, total=   0.1s\n",
      "[CV] C=1, degree=3, gamma=0.0001, kernel=poly ........................\n",
      "[CV]  C=1, degree=3, gamma=0.0001, kernel=poly, score=0.6363636363636364, total=   0.0s\n",
      "[CV] C=1, degree=3, gamma=0.0001, kernel=poly ........................\n",
      "[CV]  C=1, degree=3, gamma=0.0001, kernel=poly, score=0.7727272727272727, total=   0.0s\n",
      "[CV] C=1, degree=4, gamma=0.001, kernel=poly .........................\n",
      "[CV]  C=1, degree=4, gamma=0.001, kernel=poly, score=0.782608695652174, total=   0.0s\n",
      "[CV] C=1, degree=4, gamma=0.001, kernel=poly .........................\n",
      "[CV]  C=1, degree=4, gamma=0.001, kernel=poly, score=0.6818181818181818, total=   0.0s\n",
      "[CV] C=1, degree=4, gamma=0.001, kernel=poly .........................\n",
      "[CV]  C=1, degree=4, gamma=0.001, kernel=poly, score=0.7727272727272727, total=   0.0s\n",
      "[CV] C=1, degree=4, gamma=0.0001, kernel=poly ........................\n",
      "[CV]  C=1, degree=4, gamma=0.0001, kernel=poly, score=0.782608695652174, total=   0.0s\n",
      "[CV] C=1, degree=4, gamma=0.0001, kernel=poly ........................\n",
      "[CV]  C=1, degree=4, gamma=0.0001, kernel=poly, score=0.6818181818181818, total=   0.0s\n",
      "[CV] C=1, degree=4, gamma=0.0001, kernel=poly ........................\n",
      "[CV]  C=1, degree=4, gamma=0.0001, kernel=poly, score=0.7727272727272727, total=   0.0s\n",
      "[CV] C=0.1, degree=3, gamma=0.001, kernel=poly .......................\n",
      "[CV]  C=0.1, degree=3, gamma=0.001, kernel=poly, score=0.782608695652174, total=   0.1s\n",
      "[CV] C=0.1, degree=3, gamma=0.001, kernel=poly .......................\n",
      "[CV]  C=0.1, degree=3, gamma=0.001, kernel=poly, score=0.6363636363636364, total=   0.0s\n",
      "[CV] C=0.1, degree=3, gamma=0.001, kernel=poly .......................\n",
      "[CV]  C=0.1, degree=3, gamma=0.001, kernel=poly, score=0.7727272727272727, total=   0.0s\n",
      "[CV] C=0.1, degree=3, gamma=0.0001, kernel=poly ......................\n",
      "[CV]  C=0.1, degree=3, gamma=0.0001, kernel=poly, score=0.782608695652174, total=   0.1s\n",
      "[CV] C=0.1, degree=3, gamma=0.0001, kernel=poly ......................\n",
      "[CV]  C=0.1, degree=3, gamma=0.0001, kernel=poly, score=0.6363636363636364, total=   0.0s\n",
      "[CV] C=0.1, degree=3, gamma=0.0001, kernel=poly ......................\n",
      "[CV]  C=0.1, degree=3, gamma=0.0001, kernel=poly, score=0.7727272727272727, total=   0.0s\n",
      "[CV] C=0.1, degree=4, gamma=0.001, kernel=poly .......................\n",
      "[CV]  C=0.1, degree=4, gamma=0.001, kernel=poly, score=0.782608695652174, total=   0.0s\n",
      "[CV] C=0.1, degree=4, gamma=0.001, kernel=poly .......................\n",
      "[CV]  C=0.1, degree=4, gamma=0.001, kernel=poly, score=0.6818181818181818, total=   0.0s\n",
      "[CV] C=0.1, degree=4, gamma=0.001, kernel=poly .......................\n",
      "[CV]  C=0.1, degree=4, gamma=0.001, kernel=poly, score=0.7727272727272727, total=   0.0s\n",
      "[CV] C=0.1, degree=4, gamma=0.0001, kernel=poly ......................\n",
      "[CV]  C=0.1, degree=4, gamma=0.0001, kernel=poly, score=0.782608695652174, total=   0.0s\n",
      "[CV] C=0.1, degree=4, gamma=0.0001, kernel=poly ......................\n",
      "[CV]  C=0.1, degree=4, gamma=0.0001, kernel=poly, score=0.6818181818181818, total=   0.0s\n",
      "[CV] C=0.1, degree=4, gamma=0.0001, kernel=poly ......................\n",
      "[CV]  C=0.1, degree=4, gamma=0.0001, kernel=poly, score=0.7727272727272727, total=   0.0s\n"
     ]
    },
    {
     "name": "stderr",
     "output_type": "stream",
     "text": [
      "[Parallel(n_jobs=1)]: Done  36 out of  36 | elapsed:    1.6s finished\n"
     ]
    },
    {
     "data": {
      "text/plain": [
       "GridSearchCV(cv=None, error_score='raise',\n",
       "       estimator=SVC(C=1.0, cache_size=200, class_weight=None, coef0=0.0,\n",
       "  decision_function_shape='ovr', degree=3, gamma='auto', kernel='rbf',\n",
       "  max_iter=-1, probability=False, random_state=None, shrinking=True,\n",
       "  tol=0.001, verbose=False),\n",
       "       fit_params=None, iid=True, n_jobs=1,\n",
       "       param_grid=[{'C': [10, 1, 0.1], 'gamma': [0.001, 0.0001], 'kernel': ['poly'], 'degree': [3, 4]}],\n",
       "       pre_dispatch='2*n_jobs', refit=True, return_train_score='warn',\n",
       "       scoring=None, verbose=3)"
      ]
     },
     "execution_count": 15,
     "metadata": {},
     "output_type": "execute_result"
    }
   ],
   "source": [
    "grid.fit(X_train, y_train)"
   ]
  },
  {
   "cell_type": "code",
   "execution_count": 16,
   "metadata": {},
   "outputs": [
    {
     "name": "stdout",
     "output_type": "stream",
     "text": [
      "{'C': 10, 'degree': 4, 'gamma': 0.001, 'kernel': 'poly'}\n"
     ]
    }
   ],
   "source": [
    "print(grid.best_params_)"
   ]
  },
  {
   "cell_type": "markdown",
   "metadata": {},
   "source": [
    "#### Melhor\n",
    "{'C': 0.1, 'degree': 3, 'gamma': 0.001, 'kernel': 'poly'}"
   ]
  },
  {
   "cell_type": "code",
   "execution_count": 17,
   "metadata": {},
   "outputs": [],
   "source": [
    "y_pred = grid.predict(X_test)"
   ]
  },
  {
   "cell_type": "markdown",
   "metadata": {},
   "source": [
    "## Validando"
   ]
  },
  {
   "cell_type": "code",
   "execution_count": 18,
   "metadata": {},
   "outputs": [],
   "source": [
    "nomes = ['parkinson', 'controle']"
   ]
  },
  {
   "cell_type": "code",
   "execution_count": 19,
   "metadata": {},
   "outputs": [
    {
     "data": {
      "text/plain": [
       "<Figure size 432x288 with 0 Axes>"
      ]
     },
     "metadata": {},
     "output_type": "display_data"
    },
    {
     "data": {
      "image/png": "[encoded data removed]",
      "text/plain": [
       "<Figure size 864x432 with 2 Axes>"
      ]
     },
     "metadata": {},
     "output_type": "display_data"
    }
   ],
   "source": [
    "# Matriz de confusão\n",
    "cnf_matrix = confusion_matrix(y_test, y_pred )\n",
    "np.set_printoptions(precision=2)\n",
    "# Sem normalização\n",
    "plt.figure()\n",
    "plot_confusion_matrix(cnf_matrix, classes=nomes)"
   ]
  },
  {
   "cell_type": "code",
   "execution_count": 20,
   "metadata": {},
   "outputs": [
    {
     "name": "stdout",
     "output_type": "stream",
     "text": [
      "             precision    recall  f1-score   support\n",
      "\n",
      "          0       0.75      0.60      0.67        10\n",
      "          1       0.56      0.71      0.63         7\n",
      "\n",
      "avg / total       0.67      0.65      0.65        17\n",
      "\n"
     ]
    }
   ],
   "source": [
    "print(classification_report(y_pred, y_test))"
   ]
  }
 ],
 "metadata": {
  "kernelspec": {
   "display_name": "Python 3",
   "language": "python",
   "name": "python3"
  },
  "language_info": {
   "codemirror_mode": {
    "name": "ipython",
    "version": 3
   },
   "file_extension": ".py",
   "mimetype": "text/x-python",
   "name": "python",
   "nbconvert_exporter": "python",
   "pygments_lexer": "ipython3",
   "version": "3.6.5"
  }
 },
 "nbformat": 4,
 "nbformat_minor": 2
}
