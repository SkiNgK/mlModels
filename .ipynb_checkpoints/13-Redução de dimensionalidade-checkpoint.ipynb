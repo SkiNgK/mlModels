{
 "cells": [
  {
   "cell_type": "markdown",
   "metadata": {},
   "source": [
    "classificar em 2 a 8 hz"
   ]
  },
  {
   "cell_type": "code",
   "execution_count": 1,
   "metadata": {},
   "outputs": [],
   "source": [
    "import pyedflib\n",
    "import pandas as pd\n",
    "import numpy as np\n",
    "import matplotlib.pyplot as plt\n",
    "\n",
    "from scipy.fftpack import rfft, irfft, fftfreq\n",
    "import scipy as sp\n",
    "from scipy import signal\n",
    "\n",
    "import os\n",
    "import itertools\n",
    "from sklearn.model_selection import cross_val_score\n",
    "\n",
    "from sklearn.preprocessing import MinMaxScaler\n",
    "from sklearn.svm import SVC\n",
    "from sklearn.ensemble import RandomForestClassifier\n",
    "from sklearn.neighbors import KNeighborsClassifier\n",
    "\n",
    "from sklearn.metrics import classification_report, confusion_matrix\n",
    "from sklearn.model_selection import train_test_split, GridSearchCV\n",
    "from sklearn.model_selection import ShuffleSplit\n",
    "from sklearn.decomposition import PCA\n",
    "\n",
    "%matplotlib inline"
   ]
  },
  {
   "cell_type": "code",
   "execution_count": 2,
   "metadata": {},
   "outputs": [],
   "source": [
    "HOME = \"/Users/jonat/OneDrive/Documents/Protocolo_PKS/Protocolo_PKS/dados_edf/DB_REPO/edf/\"\n",
    "def dadosPK(tipo):\n",
    "    dir_ct = HOME+tipo+\"/\"\n",
    "    return os.listdir(HOME+tipo+\"/\")\n",
    "def carregarDataFrame(tipo, caminho):\n",
    "    caminho = HOME+tipo+\"/\"+caminho\n",
    "    \n",
    "    edf = pyedflib.EdfReader(caminho)\n",
    "    n = edf.signals_in_file\n",
    "    sigbufs = np.zeros((n, edf.getNSamples()[0]))\n",
    "    for i in np.arange(n):\n",
    "         sigbufs[i, :] = edf.readSignal(i)\n",
    "    edf._close()\n",
    "    del edf\n",
    "    data = sigbufs.T\n",
    "    \n",
    "    return pd.DataFrame(data=data, columns=['ch1', 'ch2', 'ch3', 'ch4'])"
   ]
  },
  {
   "cell_type": "code",
   "execution_count": 3,
   "metadata": {},
   "outputs": [],
   "source": [
    "def plot_confusion_matrix(cm, classes, normalize=True, title='Matriz de confusão, sem normalização', cmap=plt.cm.Blues):\n",
    "    \"\"\"\n",
    "    This function prints and plots the confusion matrix.\n",
    "    Normalization can be applied by setting `normalize=True`.\n",
    "    \"\"\"\n",
    "    if normalize:\n",
    "        cm = cm.astype('float') / cm.sum(axis=1)[:, np.newaxis]\n",
    "    plt.figure(figsize=(12,6))\n",
    "    plt.imshow(cm, interpolation='nearest', cmap=cmap)\n",
    "    plt.title(title)\n",
    "    plt.colorbar()\n",
    "    tick_marks = np.arange(len(classes))\n",
    "    plt.xticks(tick_marks, classes, rotation=45)\n",
    "    plt.yticks(tick_marks, classes)\n",
    "\n",
    "    fmt = '.2f' if normalize else 'd'\n",
    "    thresh = cm.max() / 2.\n",
    "    for i, j in itertools.product(range(cm.shape[0]), range(cm.shape[1])):\n",
    "        plt.text(j, i, format(cm[i, j], fmt),\n",
    "                 horizontalalignment=\"center\",\n",
    "                 color=\"white\" if cm[i, j] > thresh else \"black\")\n",
    "\n",
    "    plt.tight_layout()\n",
    "    plt.ylabel('Esperado')\n",
    "    plt.xlabel('Obtido')"
   ]
  },
  {
   "cell_type": "code",
   "execution_count": 4,
   "metadata": {},
   "outputs": [],
   "source": [
    "def fft(df, canal):\n",
    "    amostras_validas = df[canal][2000:11000]\n",
    "    amostras = int(amostras_validas.shape[0]*500/2000)\n",
    "    sinal = np.abs(np.fft.fft(amostras_validas))[:amostras]\n",
    "    freq = np.linspace(0,500,amostras)\n",
    "\n",
    "    return (sinal,freq)\n",
    "\n",
    "def frequecia(df, canal):\n",
    "    sinalFFT = [fft(data, canal)[0] for data in df]\n",
    "    return sinalFFT"
   ]
  },
  {
   "cell_type": "code",
   "execution_count": 5,
   "metadata": {},
   "outputs": [],
   "source": [
    "nomes_parkinson = dadosPK('parkinson')\n",
    "nomes_controle = dadosPK('controle')\n",
    "df_ct = [ carregarDataFrame('controle', nome) for nome in nomes_controle]\n",
    "df_pk = [ carregarDataFrame('parkinson', nome) for nome in nomes_parkinson]"
   ]
  },
  {
   "cell_type": "markdown",
   "metadata": {},
   "source": [
    "# Filtrando os dados com a fft"
   ]
  },
  {
   "cell_type": "code",
   "execution_count": 6,
   "metadata": {},
   "outputs": [],
   "source": [
    "sinalCT = frequecia(df_ct, 'ch1')\n",
    "sinalPK = frequecia(df_pk, 'ch1')\n",
    "\n",
    "rotulosCT = [0 for _ in sinalCT]\n",
    "rotulosPK = [1 for _ in sinalPK]\n",
    "\n",
    "trainData = sinalCT + sinalPK\n",
    "rotulos = rotulosCT + rotulosPK"
   ]
  },
  {
   "cell_type": "markdown",
   "metadata": {},
   "source": [
    "## Separando os dados (Treino, teste e validação)"
   ]
  },
  {
   "cell_type": "markdown",
   "metadata": {},
   "source": [
    "# Croos Validation"
   ]
  },
  {
   "cell_type": "markdown",
   "metadata": {},
   "source": [
    "# Range"
   ]
  },
  {
   "cell_type": "code",
   "execution_count": 111,
   "metadata": {},
   "outputs": [],
   "source": [
    "random_state=0\n",
    "n_components=6"
   ]
  },
  {
   "cell_type": "markdown",
   "metadata": {},
   "source": [
    "## Randon Forest"
   ]
  },
  {
   "cell_type": "code",
   "execution_count": 121,
   "metadata": {},
   "outputs": [
    {
     "name": "stdout",
     "output_type": "stream",
     "text": [
      "Raw score 0.6923076923076923\n",
      "score with cross validation: 0.80 (+/- 0.44)\n",
      "score com PCA 0.9615384615384616\n",
      "             precision    recall  f1-score   support\n",
      "\n",
      "   controle       0.90      1.00      0.95         9\n",
      "  parkinson       1.00      0.94      0.97        17\n",
      "\n",
      "avg / total       0.97      0.96      0.96        26\n",
      "\n"
     ]
    },
    {
     "data": {
      "image/png": "[encoded data removed]",
      "text/plain": [
       "<Figure size 864x432 with 2 Axes>"
      ]
     },
     "metadata": {},
     "output_type": "display_data"
    }
   ],
   "source": [
    "X_train, X_test, y_train, y_test = train_test_split(trainData, rotulos, test_size=0.3, random_state=random_state)\n",
    "\n",
    "#Raw\n",
    "rfc = RandomForestClassifier(random_state=0, n_estimators=50, max_features='log2', max_depth=None)\n",
    "rfc.fit(X_train, y_train)\n",
    "print('Raw score', rfc.score(X_test, y_test))\n",
    "\n",
    "#cross-validation\n",
    "cv = ShuffleSplit(n_splits=20, test_size=0.3, random_state=random_state)\n",
    "scores = cross_val_score(rfc, trainData, rotulos, cv=20)      \n",
    "print(\"score with cross validation: %0.2f (+/- %0.2f)\" % (scores.mean(), scores.std() * 2))\n",
    "\n",
    "#PCA\n",
    "pca = PCA(n_components=n_components)\n",
    "pca.fit(trainData)\n",
    "X_t_train = pca.transform(X_train)\n",
    "X_t_test = pca.transform(X_test)\n",
    "\n",
    "rfcPCA = RandomForestClassifier(random_state=0, n_estimators=50, max_features='log2', max_depth=None)\n",
    "rfcPCA.fit(X_t_train, y_train)\n",
    "print('score com PCA', rfcPCA.score(X_t_test, y_test))\n",
    "\n",
    "y_pred = rfcPCA.predict(X_t_test)\n",
    "cm = confusion_matrix(y_pred=y_pred, y_true=y_test)\n",
    "plot_confusion_matrix(cm, nomes)\n",
    "print(classification_report(y_pred, y_test,target_names=nomes))"
   ]
  },
  {
   "cell_type": "markdown",
   "metadata": {},
   "source": [
    "## SVM"
   ]
  },
  {
   "cell_type": "code",
   "execution_count": 120,
   "metadata": {},
   "outputs": [
    {
     "name": "stdout",
     "output_type": "stream",
     "text": [
      "Raw score 0.8076923076923077\n",
      "score with cross validation: 0.74 (+/- 0.15)\n",
      "score com PCA 0.8846153846153846\n",
      "             precision    recall  f1-score   support\n",
      "\n",
      "   controle       0.90      0.82      0.86        11\n",
      "  parkinson       0.88      0.93      0.90        15\n",
      "\n",
      "avg / total       0.89      0.88      0.88        26\n",
      "\n"
     ]
    },
    {
     "data": {
      "image/png": "[encoded data removed]",
      "text/plain": [
       "<Figure size 864x432 with 2 Axes>"
      ]
     },
     "metadata": {},
     "output_type": "display_data"
    }
   ],
   "source": [
    "X_train, X_test, y_train, y_test = train_test_split(trainData, rotulos, test_size=0.3, random_state=random_state)\n",
    "\n",
    "svm = SVC(C=1, gamma=0.1, kernel='poly', degree=3)  \n",
    "svm.fit(X_train, y_train)\n",
    "y_pred = svm.predict(X_test)\n",
    "print('Raw score', svm.score(X_test, y_test))\n",
    "\n",
    "\n",
    "cv = ShuffleSplit(n_splits=20, test_size=0.3, random_state=random_state)\n",
    "scores = cross_val_score(svm, trainData, rotulos, cv=cv)      \n",
    "print(\"score with cross validation: %0.2f (+/- %0.2f)\" % (scores.mean(), scores.std() * 2))\n",
    "\n",
    "# PCA\n",
    "pca = PCA(n_components=n_components)\n",
    "pca.fit(trainData)\n",
    "\n",
    "X_t_train = pca.transform(X_train)\n",
    "X_t_test = pca.transform(X_test)\n",
    "\n",
    "clf = SVC(C=100, gamma=0.1, kernel='poly', degree=3)\n",
    "clf.fit(X_t_train, y_train)\n",
    "print('score com PCA', clf.score(X_t_test, y_test))\n",
    "\n",
    "y_pred=clf.predict(X_t_test)\n",
    "cm = confusion_matrix(y_pred=y_pred, y_true=y_test)\n",
    "plot_confusion_matrix(cm, nomes)\n",
    "print(classification_report(y_pred, y_test,target_names=nomes))"
   ]
  },
  {
   "cell_type": "markdown",
   "metadata": {},
   "source": [
    "## KNN"
   ]
  },
  {
   "cell_type": "code",
   "execution_count": 122,
   "metadata": {},
   "outputs": [
    {
     "name": "stdout",
     "output_type": "stream",
     "text": [
      "Raw score 0.6153846153846154\n",
      "score with cross validation: 0.59 (+/- 0.14)\n",
      "score com PCA 0.8461538461538461\n",
      "             precision    recall  f1-score   support\n",
      "\n",
      "   controle       0.80      0.80      0.80        10\n",
      "  parkinson       0.88      0.88      0.88        16\n",
      "\n",
      "avg / total       0.85      0.85      0.85        26\n",
      "\n"
     ]
    },
    {
     "data": {
      "image/png": "[encoded data removed]",
      "text/plain": [
       "<Figure size 864x432 with 2 Axes>"
      ]
     },
     "metadata": {},
     "output_type": "display_data"
    }
   ],
   "source": [
    "X_train, X_test, y_train, y_test = train_test_split(trainData, rotulos, test_size=0.3, random_state=random_state)\n",
    "\n",
    "knn = KNeighborsClassifier(algorithm='auto', leaf_size=30, n_neighbors=3, weights='uniform')\n",
    "knn.fit(X_train, y_train)\n",
    "print('Raw score', knn.score(X_test, y_test)) \n",
    "\n",
    "cv = ShuffleSplit(n_splits=20, test_size=0.3, random_state=random_state)\n",
    "scores = cross_val_score(knn, trainData, rotulos, cv=cv)      \n",
    "print(\"score with cross validation: %0.2f (+/- %0.2f)\" % (scores.mean(), scores.std() * 2))\n",
    "\n",
    "# PCA\n",
    "pca = PCA(n_components=5)\n",
    "pca.fit(trainData)\n",
    "X_t_train = pca.transform(X_train)\n",
    "X_t_test = pca.transform(X_test)\n",
    "\n",
    "knnPCA = KNeighborsClassifier(algorithm='auto', leaf_size=30, n_neighbors=3, weights='uniform')\n",
    "knnPCA.fit(X_t_train, y_train)\n",
    "print('score com PCA', knnPCA.score(X_t_test, y_test))\n",
    "\n",
    "y_pred=knnPCA.predict(X_t_test)\n",
    "cm = confusion_matrix(y_pred=y_pred, y_true=y_test)\n",
    "plot_confusion_matrix(cm, nomes)\n",
    "print(classification_report(y_pred, y_test,target_names=nomes))"
   ]
  }
 ],
 "metadata": {
  "kernelspec": {
   "display_name": "Python 3",
   "language": "python",
   "name": "python3"
  },
  "language_info": {
   "codemirror_mode": {
    "name": "ipython",
    "version": 3
   },
   "file_extension": ".py",
   "mimetype": "text/x-python",
   "name": "python",
   "nbconvert_exporter": "python",
   "pygments_lexer": "ipython3",
   "version": "3.6.5"
  }
 },
 "nbformat": 4,
 "nbformat_minor": 2
}
