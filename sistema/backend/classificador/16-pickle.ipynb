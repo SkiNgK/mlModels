{
 "cells": [
  {
   "cell_type": "markdown",
   "metadata": {},
   "source": [
    "classificar em 2 a 8 hz"
   ]
  },
  {
   "cell_type": "code",
   "execution_count": 1,
   "metadata": {},
   "outputs": [],
   "source": [
    "import pyedflib\n",
    "import pandas as pd\n",
    "import numpy as np\n",
    "import matplotlib.pyplot as plt\n",
    "\n",
    "from scipy.fftpack import rfft, irfft, fftfreq\n",
    "import scipy as sp\n",
    "from scipy import signal\n",
    "\n",
    "import os\n",
    "import itertools\n",
    "from sklearn.model_selection import cross_val_score\n",
    "\n",
    "from sklearn.preprocessing import MinMaxScaler\n",
    "from sklearn.svm import SVC\n",
    "from sklearn.ensemble import RandomForestClassifier\n",
    "from sklearn.neighbors import KNeighborsClassifier\n",
    "\n",
    "from sklearn.metrics import classification_report, confusion_matrix\n",
    "from sklearn.model_selection import train_test_split, GridSearchCV\n",
    "from sklearn.model_selection import ShuffleSplit\n",
    "from sklearn.decomposition import PCA\n",
    "\n",
    "%matplotlib inline"
   ]
  },
  {
   "cell_type": "code",
   "execution_count": 2,
   "metadata": {},
   "outputs": [],
   "source": [
    "HOME = \"/home/jonnatas/git/mlModels/sistema/modelo/DB_REPO/edf/\"\n",
    "def dadosPK(tipo):\n",
    "    dir_ct = HOME+tipo+\"/\"\n",
    "    return os.listdir(HOME+tipo+\"/\")\n",
    "def carregarDataFrame(tipo, caminho):\n",
    "    caminho = HOME+tipo+\"/\"+caminho\n",
    "    \n",
    "    edf = pyedflib.EdfReader(caminho)\n",
    "    n = edf.signals_in_file\n",
    "    sigbufs = np.zeros((n, edf.getNSamples()[0]))\n",
    "    for i in np.arange(n):\n",
    "         sigbufs[i, :] = edf.readSignal(i)\n",
    "    edf._close()\n",
    "    del edf\n",
    "    data = sigbufs.T\n",
    "    \n",
    "    return pd.DataFrame(data=data, columns=['ch1', 'ch2', 'ch3', 'ch4'])"
   ]
  },
  {
   "cell_type": "code",
   "execution_count": 3,
   "metadata": {},
   "outputs": [],
   "source": [
    "def plot_confusion_matrix(cm, classes, normalize=True, title='Matriz de confusão, sem normalização', cmap=plt.cm.Blues):\n",
    "    \"\"\"\n",
    "    This function prints and plots the confusion matrix.\n",
    "    Normalization can be applied by setting `normalize=True`.\n",
    "    \"\"\"\n",
    "    if normalize:\n",
    "        cm = cm.astype('float') / cm.sum(axis=1)[:, np.newaxis]\n",
    "    plt.figure(figsize=(12,6))\n",
    "    plt.imshow(cm, interpolation='nearest', cmap=cmap)\n",
    "    plt.title(title)\n",
    "    plt.colorbar()\n",
    "    tick_marks = np.arange(len(classes))\n",
    "    plt.xticks(tick_marks, classes, rotation=45)\n",
    "    plt.yticks(tick_marks, classes)\n",
    "\n",
    "    fmt = '.2f' if normalize else 'd'\n",
    "    thresh = cm.max() / 2.\n",
    "    for i, j in itertools.product(range(cm.shape[0]), range(cm.shape[1])):\n",
    "        plt.text(j, i, format(cm[i, j], fmt),\n",
    "                 horizontalalignment=\"center\",\n",
    "                 color=\"white\" if cm[i, j] > thresh else \"black\")\n",
    "\n",
    "    plt.tight_layout()\n",
    "    plt.ylabel('Esperado')\n",
    "    plt.xlabel('Obtido')"
   ]
  },
  {
   "cell_type": "code",
   "execution_count": 4,
   "metadata": {},
   "outputs": [],
   "source": [
    "def fft(df, canal):\n",
    "    amostras_validas = df[canal][2000:11000]\n",
    "    amostras = int(amostras_validas.shape[0]*500/2000)\n",
    "    sinal = np.abs(np.fft.fft(amostras_validas))[:amostras]\n",
    "    freq = np.linspace(0,500,amostras)\n",
    "\n",
    "    return (sinal,freq)\n",
    "\n",
    "def frequecia(df, canal):\n",
    "    sinalFFT = [fft(data, canal)[0] for data in df]\n",
    "    return sinalFFT"
   ]
  },
  {
   "cell_type": "code",
   "execution_count": 5,
   "metadata": {},
   "outputs": [],
   "source": [
    "def pcaCLF(clf, trainData, rotulos, random_state=30, test_size=0.3,n_components=30, kfold=30):\n",
    "    \n",
    "    \n",
    "    X_train, X_test, y_train, y_test = train_test_split(trainData, rotulos, test_size=test_size, random_state=random_state)\n",
    "    #Raw score\n",
    "    clf.fit(X_train, y_train)\n",
    "    print('Raw score', clf.score(X_test, y_test))\n",
    "    \n",
    "    #cross-validation\n",
    "    scores = cross_val_score(clf, trainData, rotulos, cv=kfold)      \n",
    "    print(\"score cross validation: %0.2f (+/- %0.2f)\" % (scores.mean(), scores.std() * 2))\n",
    "    \n",
    "    #PCA\n",
    "    pca = PCA(n_components=n_components)\n",
    "    pca.fit(trainData)\n",
    "    X_t_train = pca.transform(X_train)\n",
    "    X_t_test = pca.transform(X_test)\n",
    "    \n",
    "    clf.fit(X_t_train, y_train)\n",
    "    print('score PCA ', clf.score(X_t_test, y_test))\n",
    "   \n",
    "    #PCA + cross-validation\n",
    "    pcaCV = PCA(n_components=n_components)\n",
    "    pcaCV.fit(trainData)\n",
    "    t_trainData = pcaCV.transform(trainData)\n",
    "    #cross-validation\n",
    "    scores = cross_val_score(clf, t_trainData, rotulos, cv=kfold)   \n",
    "    print(\"score PCA cross validation: %0.2f (+/- %0.2f)\" % (scores.mean(), scores.std() * 2))\n"
   ]
  },
  {
   "cell_type": "code",
   "execution_count": 6,
   "metadata": {},
   "outputs": [],
   "source": [
    "nomes_parkinson = dadosPK('parkinson')\n",
    "nomes_controle = dadosPK('controle')\n",
    "df_ct = [ carregarDataFrame('controle', nome) for nome in nomes_controle]\n",
    "df_pk = [ carregarDataFrame('parkinson', nome) for nome in nomes_parkinson]"
   ]
  },
  {
   "cell_type": "markdown",
   "metadata": {},
   "source": [
    "# Filtrando os dados com a fft"
   ]
  },
  {
   "cell_type": "code",
   "execution_count": 24,
   "metadata": {},
   "outputs": [
    {
     "name": "stdout",
     "output_type": "stream",
     "text": [
      "[array([26958.83684211, 49988.79699492, 23700.45003159, ...,\n",
      "         772.06936506,    86.38641717,   178.37312249]), array([5390.9       ,  260.27476548,  328.93893794, ...,  609.58229936,\n",
      "        436.73989925,  719.79730995]), array([5283.23214286,  446.00421988,  512.91382417, ...,  532.83815736,\n",
      "        380.6286292 ,  650.26143758]), array([15819.50694444, 10846.09004275,  4491.27983909, ...,\n",
      "         204.61200697,   200.59625108,   483.59521403]), array([20845.04417178,  1675.59618358,  1539.54510771, ...,\n",
      "         272.23172187,   365.47119823,   466.11321746]), array([15996.47619048, 41383.95090445, 22551.16180308, ...,\n",
      "         500.75406406,   537.08217618,   201.00445625]), array([ 9575.98732394, 49442.97030921, 29319.41988874, ...,\n",
      "         467.16935647,   260.83279142,   650.75462726]), array([3163.26976744,   35.21009018, 2499.18175935, ...,  633.30963496,\n",
      "        518.5572047 ,  254.36506494]), array([ 4595.64285714,  7897.51280363, 10012.31576879, ...,\n",
      "         462.56439219,   353.61258969,   324.62530062]), array([4947.43636364,  248.0438451 ,  249.42871746, ...,  252.01014392,\n",
      "        171.28246931,  671.96297764]), array([5522.85      ,  199.85632219,  323.18107796, ...,  420.63356811,\n",
      "        862.42914931,  727.50279608]), array([3619.05555556,  212.4230837 ,  589.3258131 , ...,  414.48634248,\n",
      "        343.46836309,  614.79313287]), array([17964.8       , 26103.06948026, 38504.23404013, ...,\n",
      "         779.94753274,   601.19008168,   901.18493454]), array([4846.71785714,  631.94977839,  170.36307599, ...,  142.81226329,\n",
      "        483.8873812 ,  274.71045632]), array([2015.94545455,  370.92940558,  336.99478592, ...,  533.53826146,\n",
      "        289.8266174 ,  925.43026143]), array([15291.46344086, 10085.8611216 ,  3351.50424667, ...,\n",
      "         868.17410208,   140.41862331,   420.47561625]), array([7815.42222222,  726.16013322,  985.22650295, ...,  714.72759129,\n",
      "        182.35500781,  388.63330226]), array([38950.37697842,  9932.94398914, 45951.50800427, ...,\n",
      "        1271.0071311 ,   453.13965588,   768.50064063]), array([11826.3442623 , 31262.09097415, 11046.26896251, ...,\n",
      "         448.28871685,   178.01863126,   675.76585795]), array([7557.78888889,  450.23156242,  315.3405415 , ...,  216.80348038,\n",
      "       1041.25241021,  347.80386589]), array([ 4942.98591549, 24827.03175154, 28223.75799942, ...,\n",
      "         483.02659503,    54.80111798,   611.40156758]), array([5549.13461538,  262.65388306,  370.11280982, ...,  375.09507102,\n",
      "        828.87154223,  500.11394846]), array([4526.78181818,  907.88771083,  235.24357613, ...,  315.68426113,\n",
      "        307.20741026,  724.8099957 ]), array([4259.19354839,  134.69185164,  612.02272579, ...,  344.44104336,\n",
      "        351.36863961,  316.21699706]), array([3255.46129032,  206.48145038,  108.79828812, ...,  404.08028664,\n",
      "        806.22829322,  349.00760024]), array([32947.11917808, 41472.23370296, 15605.89437178, ...,\n",
      "         107.05013678,   541.35149811,   287.7455177 ]), array([4059.256     ,  528.49865378,  118.20783453, ...,  781.76973035,\n",
      "        797.0664455 ,  142.33501213]), array([3204.76774194,  214.08853707,  250.816201  , ...,  670.72072043,\n",
      "        417.88605843,  575.28814083]), array([34671.75555556,  3258.65813341, 11816.81393716, ...,\n",
      "         376.16171277,   453.18018689,   184.43231065]), array([6360.32857143,  913.14208843,  235.26259892, ...,  290.87886134,\n",
      "        207.69098002,  360.36667886]), array([15831.65454545, 10036.09136561,  5486.9338234 , ...,\n",
      "         142.30734241,   128.00360542,   372.18641701]), array([ 5984.77876106,  8277.55850901, 40577.3204811 , ...,\n",
      "         404.95820439,   516.64731627,   459.59274701]), array([7182.25555556,  306.38506264,  319.83046804, ...,  353.40976474,\n",
      "        214.44579763,  178.55371093]), array([ 2312.41176471, 12598.51037941,  6380.38855457, ...,\n",
      "         121.07561206,   317.12405941,   578.79851136]), array([25379.37700535,  3929.71403149,  1749.76943599, ...,\n",
      "         204.7771463 ,   410.26173379,   980.12118045]), array([4452.95172414,  363.54917181, 1026.58144465, ...,  203.74588293,\n",
      "        323.01859549,  410.7519367 ]), array([ 2684.50666667, 23164.42912064, 10981.23571596, ...,\n",
      "         402.95652171,   442.45099532,   346.26911819]), array([4987.27777778,  598.16479715,  417.93120457, ...,  714.41855319,\n",
      "        661.65163863,  520.59664545]), array([43320.12903226, 24351.83870837, 10970.84802887, ...,\n",
      "         240.06711411,   195.71177974,   232.85253191]), array([1318.60909091, 4728.19666596, 4339.75610967, ...,  352.07630177,\n",
      "        800.40366236,  263.9963421 ]), array([14866.65671642,  2738.74370365,  4578.12063048, ...,\n",
      "         554.29150853,   455.7262602 ,   507.20109211]), array([13922.42105263, 18407.09762968, 10292.53927765, ...,\n",
      "         701.30184785,   595.69862805,   695.0853016 ]), array([3337.14545455,  342.00458402,  171.30231692, ...,  706.26090158,\n",
      "        348.38435026,  334.24968321]), array([43667.25694444, 18481.24063991, 15186.27473229, ...,\n",
      "         147.75594102,   705.7231788 ,   339.32676379]), array([3113.44444444,  551.6348704 ,  311.39292269, ...,  438.97010915,\n",
      "        257.39668586,  722.06552893]), array([5325.38571429,  386.67764259,  359.87308683, ...,  550.18575343,\n",
      "        835.88046671,  140.29772869]), array([8527.34782609, 1662.68970803, 4993.37366077, ...,  394.64605942,\n",
      "        819.11576307,  750.31910737]), array([ 6248.65901639,  4841.21193199, 20613.14193251, ...,\n",
      "         729.73475321,   495.1667844 ,   551.04599493]), array([4585.075     ,  275.10093456,  200.56075644, ...,  556.67296611,\n",
      "        147.06408187,  671.61036944]), array([37165.53241379, 51111.99607361, 85314.68915482, ...,\n",
      "         729.9104177 ,   562.33090284,   751.73636387]), array([46137.16626506, 40067.9734197 , 47416.72693333, ...,\n",
      "         476.54233758,   993.01033539,   637.623856  ]), array([5805.06428571,  432.04978277,  419.74480493, ...,  654.73017381,\n",
      "        265.46385853,  351.8423181 ]), array([5227.44444444,  491.6333166 ,  924.01435417, ...,  461.23214238,\n",
      "        721.33773606,   57.44557983]), array([4693.45      ,  112.79324391,  553.35081496, ...,  312.28030495,\n",
      "        537.18306098, 1241.4076132 ]), array([35551.42242991, 25570.27949519, 51253.2944515 , ...,\n",
      "         461.59140426,   359.19376032,   379.08617524]), array([5676.2       , 1073.26212942, 3666.75069813, ...,  125.61031147,\n",
      "        227.04614911,  339.78654102]), array([15769.62758621,  2116.34206003,  2686.0938486 , ...,\n",
      "         257.27069865,   732.05549234,   460.5360058 ]), array([2876.37931034, 1066.64674524,  470.43517342, ...,  249.76694696,\n",
      "        367.18304951, 1253.31327732])]\n"
     ]
    }
   ],
   "source": [
    "sinalCT = frequecia(df_ct, 'ch1')\n",
    "sinalPK = frequecia(df_pk, 'ch1')\n",
    "\n",
    "rotulosCT = [0 for _ in sinalCT]\n",
    "rotulosPK = [1 for _ in sinalPK]\n",
    "\n",
    "trainData = sinalCT + sinalPK\n",
    "rotulos = rotulosCT + rotulosPK\n",
    "print(X_train)"
   ]
  },
  {
   "cell_type": "markdown",
   "metadata": {},
   "source": [
    "## Separando os dados (Treino, teste e validação)"
   ]
  },
  {
   "cell_type": "code",
   "execution_count": 8,
   "metadata": {},
   "outputs": [],
   "source": [
    "random_state=0\n",
    "n_components = min(len(trainData), len(trainData[0]))\n",
    "kfold = 30\n",
    "nomes = ['controle','parkinson']\n",
    "X_train, X_test, y_train, y_test = train_test_split(trainData, rotulos, test_size=0.3, random_state=random_state)\n"
   ]
  },
  {
   "cell_type": "code",
   "execution_count": 23,
   "metadata": {},
   "outputs": [
    {
     "name": "stdout",
     "output_type": "stream",
     "text": [
      "Raw score 0.7307692307692307\n",
      "score cross validation: 0.75 (+/- 0.56)\n",
      "score PCA  0.7692307692307693\n",
      "score PCA cross validation: 0.77 (+/- 0.50)\n"
     ]
    },
    {
     "ename": "ValueError",
     "evalue": "Expected 2D array, got 1D array instead:\narray=[7815.4224   726.16016  985.2265  ...  714.7276   182.35501  388.6333 ].\nReshape your data either using array.reshape(-1, 1) if your data has a single feature or array.reshape(1, -1) if it contains a single sample.",
     "output_type": "error",
     "traceback": [
      "\u001b[0;31m---------------------------------------------------------------------------\u001b[0m",
      "\u001b[0;31mValueError\u001b[0m                                Traceback (most recent call last)",
      "\u001b[0;32m<ipython-input-23-d8e68c88e555>\u001b[0m in \u001b[0;36m<module>\u001b[0;34m()\u001b[0m\n\u001b[1;32m      1\u001b[0m \u001b[0mrfc\u001b[0m \u001b[0;34m=\u001b[0m \u001b[0mRandomForestClassifier\u001b[0m\u001b[0;34m(\u001b[0m\u001b[0mrandom_state\u001b[0m\u001b[0;34m=\u001b[0m\u001b[0mrandom_state\u001b[0m\u001b[0;34m,\u001b[0m \u001b[0mn_estimators\u001b[0m\u001b[0;34m=\u001b[0m\u001b[0;36m50\u001b[0m\u001b[0;34m,\u001b[0m \u001b[0mmax_features\u001b[0m\u001b[0;34m=\u001b[0m\u001b[0;34m'log2'\u001b[0m\u001b[0;34m,\u001b[0m \u001b[0mmax_depth\u001b[0m\u001b[0;34m=\u001b[0m\u001b[0;32mNone\u001b[0m\u001b[0;34m)\u001b[0m\u001b[0;34m\u001b[0m\u001b[0m\n\u001b[1;32m      2\u001b[0m \u001b[0mpcaCLF\u001b[0m\u001b[0;34m(\u001b[0m\u001b[0mrfc\u001b[0m\u001b[0;34m,\u001b[0m \u001b[0mtrainData\u001b[0m\u001b[0;34m,\u001b[0m \u001b[0mrotulos\u001b[0m\u001b[0;34m)\u001b[0m\u001b[0;34m\u001b[0m\u001b[0m\n\u001b[0;32m----> 3\u001b[0;31m \u001b[0mprint\u001b[0m\u001b[0;34m(\u001b[0m\u001b[0mrfc\u001b[0m\u001b[0;34m.\u001b[0m\u001b[0mpredict\u001b[0m\u001b[0;34m(\u001b[0m\u001b[0mtrainData\u001b[0m\u001b[0;34m[\u001b[0m\u001b[0;36m0\u001b[0m\u001b[0;34m]\u001b[0m\u001b[0;34m.\u001b[0m\u001b[0mT\u001b[0m\u001b[0;34m)\u001b[0m\u001b[0;34m)\u001b[0m\u001b[0;34m\u001b[0m\u001b[0m\n\u001b[0m",
      "\u001b[0;32m~/anaconda3/lib/python3.6/site-packages/sklearn/ensemble/forest.py\u001b[0m in \u001b[0;36mpredict\u001b[0;34m(self, X)\u001b[0m\n\u001b[1;32m    536\u001b[0m             \u001b[0mThe\u001b[0m \u001b[0mpredicted\u001b[0m \u001b[0mclasses\u001b[0m\u001b[0;34m.\u001b[0m\u001b[0;34m\u001b[0m\u001b[0m\n\u001b[1;32m    537\u001b[0m         \"\"\"\n\u001b[0;32m--> 538\u001b[0;31m         \u001b[0mproba\u001b[0m \u001b[0;34m=\u001b[0m \u001b[0mself\u001b[0m\u001b[0;34m.\u001b[0m\u001b[0mpredict_proba\u001b[0m\u001b[0;34m(\u001b[0m\u001b[0mX\u001b[0m\u001b[0;34m)\u001b[0m\u001b[0;34m\u001b[0m\u001b[0m\n\u001b[0m\u001b[1;32m    539\u001b[0m \u001b[0;34m\u001b[0m\u001b[0m\n\u001b[1;32m    540\u001b[0m         \u001b[0;32mif\u001b[0m \u001b[0mself\u001b[0m\u001b[0;34m.\u001b[0m\u001b[0mn_outputs_\u001b[0m \u001b[0;34m==\u001b[0m \u001b[0;36m1\u001b[0m\u001b[0;34m:\u001b[0m\u001b[0;34m\u001b[0m\u001b[0m\n",
      "\u001b[0;32m~/anaconda3/lib/python3.6/site-packages/sklearn/ensemble/forest.py\u001b[0m in \u001b[0;36mpredict_proba\u001b[0;34m(self, X)\u001b[0m\n\u001b[1;32m    576\u001b[0m         \u001b[0mcheck_is_fitted\u001b[0m\u001b[0;34m(\u001b[0m\u001b[0mself\u001b[0m\u001b[0;34m,\u001b[0m \u001b[0;34m'estimators_'\u001b[0m\u001b[0;34m)\u001b[0m\u001b[0;34m\u001b[0m\u001b[0m\n\u001b[1;32m    577\u001b[0m         \u001b[0;31m# Check data\u001b[0m\u001b[0;34m\u001b[0m\u001b[0;34m\u001b[0m\u001b[0m\n\u001b[0;32m--> 578\u001b[0;31m         \u001b[0mX\u001b[0m \u001b[0;34m=\u001b[0m \u001b[0mself\u001b[0m\u001b[0;34m.\u001b[0m\u001b[0m_validate_X_predict\u001b[0m\u001b[0;34m(\u001b[0m\u001b[0mX\u001b[0m\u001b[0;34m)\u001b[0m\u001b[0;34m\u001b[0m\u001b[0m\n\u001b[0m\u001b[1;32m    579\u001b[0m \u001b[0;34m\u001b[0m\u001b[0m\n\u001b[1;32m    580\u001b[0m         \u001b[0;31m# Assign chunk of trees to jobs\u001b[0m\u001b[0;34m\u001b[0m\u001b[0;34m\u001b[0m\u001b[0m\n",
      "\u001b[0;32m~/anaconda3/lib/python3.6/site-packages/sklearn/ensemble/forest.py\u001b[0m in \u001b[0;36m_validate_X_predict\u001b[0;34m(self, X)\u001b[0m\n\u001b[1;32m    355\u001b[0m                                  \"call `fit` before exploiting the model.\")\n\u001b[1;32m    356\u001b[0m \u001b[0;34m\u001b[0m\u001b[0m\n\u001b[0;32m--> 357\u001b[0;31m         \u001b[0;32mreturn\u001b[0m \u001b[0mself\u001b[0m\u001b[0;34m.\u001b[0m\u001b[0mestimators_\u001b[0m\u001b[0;34m[\u001b[0m\u001b[0;36m0\u001b[0m\u001b[0;34m]\u001b[0m\u001b[0;34m.\u001b[0m\u001b[0m_validate_X_predict\u001b[0m\u001b[0;34m(\u001b[0m\u001b[0mX\u001b[0m\u001b[0;34m,\u001b[0m \u001b[0mcheck_input\u001b[0m\u001b[0;34m=\u001b[0m\u001b[0;32mTrue\u001b[0m\u001b[0;34m)\u001b[0m\u001b[0;34m\u001b[0m\u001b[0m\n\u001b[0m\u001b[1;32m    358\u001b[0m \u001b[0;34m\u001b[0m\u001b[0m\n\u001b[1;32m    359\u001b[0m     \u001b[0;34m@\u001b[0m\u001b[0mproperty\u001b[0m\u001b[0;34m\u001b[0m\u001b[0m\n",
      "\u001b[0;32m~/anaconda3/lib/python3.6/site-packages/sklearn/tree/tree.py\u001b[0m in \u001b[0;36m_validate_X_predict\u001b[0;34m(self, X, check_input)\u001b[0m\n\u001b[1;32m    371\u001b[0m         \u001b[0;34m\"\"\"Validate X whenever one tries to predict, apply, predict_proba\"\"\"\u001b[0m\u001b[0;34m\u001b[0m\u001b[0m\n\u001b[1;32m    372\u001b[0m         \u001b[0;32mif\u001b[0m \u001b[0mcheck_input\u001b[0m\u001b[0;34m:\u001b[0m\u001b[0;34m\u001b[0m\u001b[0m\n\u001b[0;32m--> 373\u001b[0;31m             \u001b[0mX\u001b[0m \u001b[0;34m=\u001b[0m \u001b[0mcheck_array\u001b[0m\u001b[0;34m(\u001b[0m\u001b[0mX\u001b[0m\u001b[0;34m,\u001b[0m \u001b[0mdtype\u001b[0m\u001b[0;34m=\u001b[0m\u001b[0mDTYPE\u001b[0m\u001b[0;34m,\u001b[0m \u001b[0maccept_sparse\u001b[0m\u001b[0;34m=\u001b[0m\u001b[0;34m\"csr\"\u001b[0m\u001b[0;34m)\u001b[0m\u001b[0;34m\u001b[0m\u001b[0m\n\u001b[0m\u001b[1;32m    374\u001b[0m             if issparse(X) and (X.indices.dtype != np.intc or\n\u001b[1;32m    375\u001b[0m                                 X.indptr.dtype != np.intc):\n",
      "\u001b[0;32m~/anaconda3/lib/python3.6/site-packages/sklearn/utils/validation.py\u001b[0m in \u001b[0;36mcheck_array\u001b[0;34m(array, accept_sparse, dtype, order, copy, force_all_finite, ensure_2d, allow_nd, ensure_min_samples, ensure_min_features, warn_on_dtype, estimator)\u001b[0m\n\u001b[1;32m    439\u001b[0m                     \u001b[0;34m\"Reshape your data either using array.reshape(-1, 1) if \"\u001b[0m\u001b[0;34m\u001b[0m\u001b[0m\n\u001b[1;32m    440\u001b[0m                     \u001b[0;34m\"your data has a single feature or array.reshape(1, -1) \"\u001b[0m\u001b[0;34m\u001b[0m\u001b[0m\n\u001b[0;32m--> 441\u001b[0;31m                     \"if it contains a single sample.\".format(array))\n\u001b[0m\u001b[1;32m    442\u001b[0m             \u001b[0marray\u001b[0m \u001b[0;34m=\u001b[0m \u001b[0mnp\u001b[0m\u001b[0;34m.\u001b[0m\u001b[0matleast_2d\u001b[0m\u001b[0;34m(\u001b[0m\u001b[0marray\u001b[0m\u001b[0;34m)\u001b[0m\u001b[0;34m\u001b[0m\u001b[0m\n\u001b[1;32m    443\u001b[0m             \u001b[0;31m# To ensure that array flags are maintained\u001b[0m\u001b[0;34m\u001b[0m\u001b[0;34m\u001b[0m\u001b[0m\n",
      "\u001b[0;31mValueError\u001b[0m: Expected 2D array, got 1D array instead:\narray=[7815.4224   726.16016  985.2265  ...  714.7276   182.35501  388.6333 ].\nReshape your data either using array.reshape(-1, 1) if your data has a single feature or array.reshape(1, -1) if it contains a single sample."
     ]
    }
   ],
   "source": [
    "rfc = RandomForestClassifier(random_state=random_state, n_estimators=50, max_features='log2', max_depth=None)\n",
    "pcaCLF(rfc, trainData, rotulos)\n",
    "print(rfc.predict(trainData[0].T))"
   ]
  },
  {
   "cell_type": "code",
   "execution_count": 10,
   "metadata": {},
   "outputs": [
    {
     "name": "stdout",
     "output_type": "stream",
     "text": [
      "Raw score 0.8076923076923077\n",
      "score cross validation: 0.68 (+/- 0.53)\n",
      "score PCA  0.6538461538461539\n",
      "score PCA cross validation: 0.74 (+/- 0.49)\n"
     ]
    }
   ],
   "source": [
    "svm = SVC(C=1, gamma=0.1, kernel='poly', degree=3)  \n",
    "pcaCLF(svm, trainData, rotulos)"
   ]
  },
  {
   "cell_type": "markdown",
   "metadata": {},
   "source": [
    "# Persistence"
   ]
  },
  {
   "cell_type": "code",
   "execution_count": 11,
   "metadata": {},
   "outputs": [],
   "source": [
    "from sklearn.externals import joblib"
   ]
  },
  {
   "cell_type": "code",
   "execution_count": 14,
   "metadata": {},
   "outputs": [
    {
     "data": {
      "text/plain": [
       "['joblib_model.pkl']"
      ]
     },
     "execution_count": 14,
     "metadata": {},
     "output_type": "execute_result"
    }
   ],
   "source": [
    "# save the model to disk\n",
    "joblib.dump(rfc, 'rfc.sav')\n",
    "joblib.dump(svm, 'svm.sav')\n",
    "\n",
    "# Save to file in the current working directory\n",
    "joblib_file = \"joblib_model.pkl\"  \n",
    "joblib.dump(rfc, joblib_file)"
   ]
  },
  {
   "cell_type": "code",
   "execution_count": 15,
   "metadata": {},
   "outputs": [
    {
     "name": "stdout",
     "output_type": "stream",
     "text": [
      "Raw score 0.7307692307692307\n",
      "score cross validation: 0.75 (+/- 0.56)\n",
      "score PCA  0.7692307692307693\n",
      "score PCA cross validation: 0.78 (+/- 0.50)\n"
     ]
    }
   ],
   "source": [
    "# load the model from disk\n",
    "filename = 'rfc.sav'\n",
    "loaded_model = joblib.load(joblib_file)\n",
    "pcaCLF(loaded_model, trainData, rotulos)\n"
   ]
  }
 ],
 "metadata": {
  "kernelspec": {
   "display_name": "Python 3",
   "language": "python",
   "name": "python3"
  },
  "language_info": {
   "codemirror_mode": {
    "name": "ipython",
    "version": 3
   },
   "file_extension": ".py",
   "mimetype": "text/x-python",
   "name": "python",
   "nbconvert_exporter": "python",
   "pygments_lexer": "ipython3",
   "version": "3.6.5"
  }
 },
 "nbformat": 4,
 "nbformat_minor": 2
}
