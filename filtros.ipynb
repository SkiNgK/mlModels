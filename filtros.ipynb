{
 "cells": [
  {
   "cell_type": "code",
   "execution_count": 1,
   "metadata": {},
   "outputs": [],
   "source": [
    "import pyedflib\n",
    "import pandas as pd\n",
    "import numpy as np\n",
    "import matplotlib.pyplot as plt\n",
    "\n",
    "%matplotlib inline"
   ]
  },
  {
   "cell_type": "code",
   "execution_count": 2,
   "metadata": {},
   "outputs": [],
   "source": [
    "dados_edf = r'''C:\\Users\\jonat\\OneDrive\\Documents\\Protocolo_PKS\\Protocolo_PKS\\dados_edf\\DB_REPO\\edf'''\n",
    "controle = r'''\\controle''' \n",
    "parkinson = r'''\\parkinson''' \n",
    "pk = ['\\Fernando Francisco da Silva - Dia 17.11.18 as 17.05.58.edf',\n",
    "     '\\Gastao Goncalves da Silva - Dia 17.11.18 as 16.27.35.edf',\n",
    "     '\\Arthur Araujo Filho - Dia 17.11.18 as 16.12.34.edf']\n",
    "\n",
    "ct = ['\\CT_José Martins de Sousa  - Dia 17.12.13 as 09.30.07.edf',\n",
    "     '\\CT_Magda Aparecida Ferreira - Dia 17.12.11 as 09.17.13.edf',\n",
    "     '\\CT_José Martins de Sousa  - Dia 17.12.13 as 09.29.49.edf']"
   ]
  },
  {
   "cell_type": "code",
   "execution_count": 3,
   "metadata": {},
   "outputs": [],
   "source": [
    "def carregarDataFrame(caminho):\n",
    "    edf = pyedflib.EdfReader(caminho)\n",
    "    n = edf.signals_in_file\n",
    "    sigbufs = np.zeros((n, edf.getNSamples()[0]))\n",
    "    for i in np.arange(n):\n",
    "         sigbufs[i, :] = edf.readSignal(i)\n",
    "    edf._close()\n",
    "    del edf\n",
    "\n",
    "    return pd.DataFrame(data=sigbufs.T, columns=['ch1', 'ch2', 'ch3', 'ch4'])"
   ]
  },
  {
   "cell_type": "code",
   "execution_count": null,
   "metadata": {},
   "outputs": [],
   "source": []
  }
 ],
 "metadata": {
  "kernelspec": {
   "display_name": "Python 3",
   "language": "python",
   "name": "python3"
  },
  "language_info": {
   "codemirror_mode": {
    "name": "ipython",
    "version": 3
   },
   "file_extension": ".py",
   "mimetype": "text/x-python",
   "name": "python",
   "nbconvert_exporter": "python",
   "pygments_lexer": "ipython3",
   "version": "3.6.5"
  }
 },
 "nbformat": 4,
 "nbformat_minor": 2
}
