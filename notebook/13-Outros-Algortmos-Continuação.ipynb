{
 "cells": [
  {
   "cell_type": "markdown",
   "metadata": {},
   "source": [
    "classificar em 2 a 8 hz"
   ]
  },
  {
   "cell_type": "code",
   "execution_count": 1,
   "metadata": {},
   "outputs": [],
   "source": [
    "import pyedflib\n",
    "import pandas as pd\n",
    "import numpy as np\n",
    "import matplotlib.pyplot as plt\n",
    "\n",
    "from scipy.fftpack import rfft, irfft, fftfreq\n",
    "import scipy as sp\n",
    "from scipy import signal\n",
    "\n",
    "import os\n",
    "import itertools\n",
    "\n",
    "from sklearn.preprocessing import MinMaxScaler\n",
    "from sklearn.svm import SVC\n",
    "from sklearn.metrics import classification_report, confusion_matrix\n",
    "from sklearn.model_selection import train_test_split, GridSearchCV\n",
    "\n",
    "%matplotlib inline"
   ]
  },
  {
   "cell_type": "code",
   "execution_count": 2,
   "metadata": {},
   "outputs": [],
   "source": [
    "HOME = \"/home/jonnatas/git/mlModels/sistema/modelo/DB_REPO/edf/\"\n",
    "def dadosPK(tipo):\n",
    "    dir_ct = HOME+tipo+\"/\"\n",
    "    return os.listdir(HOME+tipo+\"/\")\n",
    "def carregarDataFrame(tipo, caminho):\n",
    "    caminho = HOME+tipo+\"/\"+caminho\n",
    "    \n",
    "    edf = pyedflib.EdfReader(caminho)\n",
    "    n = edf.signals_in_file\n",
    "    sigbufs = np.zeros((n, edf.getNSamples()[0]))\n",
    "    for i in np.arange(n):\n",
    "         sigbufs[i, :] = edf.readSignal(i)\n",
    "    edf._close()\n",
    "    del edf\n",
    "    data = sigbufs.T\n",
    "    \n",
    "    return pd.DataFrame(data=data, columns=['ch1', 'ch2', 'ch3', 'ch4'])"
   ]
  },
  {
   "cell_type": "code",
   "execution_count": 3,
   "metadata": {},
   "outputs": [],
   "source": [
    "def plot_confusion_matrix(cm, classes, normalize=True, title='Matriz de confusão, sem normalização', cmap=plt.cm.Blues):\n",
    "    \"\"\"\n",
    "    This function prints and plots the confusion matrix.\n",
    "    Normalization can be applied by setting `normalize=True`.\n",
    "    \"\"\"\n",
    "    if normalize:\n",
    "        cm = cm.astype('float') / cm.sum(axis=1)[:, np.newaxis]\n",
    "    plt.figure(figsize=(12,6))\n",
    "    plt.imshow(cm, interpolation='nearest', cmap=cmap)\n",
    "    plt.title(title)\n",
    "    plt.colorbar()\n",
    "    tick_marks = np.arange(len(classes))\n",
    "    plt.xticks(tick_marks, classes, rotation=45)\n",
    "    plt.yticks(tick_marks, classes)\n",
    "\n",
    "    fmt = '.2f' if normalize else 'd'\n",
    "    thresh = cm.max() / 2.\n",
    "    for i, j in itertools.product(range(cm.shape[0]), range(cm.shape[1])):\n",
    "        plt.text(j, i, format(cm[i, j], fmt),\n",
    "                 horizontalalignment=\"center\",\n",
    "                 color=\"white\" if cm[i, j] > thresh else \"black\")\n",
    "\n",
    "    plt.tight_layout()\n",
    "    plt.ylabel('Esperado')\n",
    "    plt.xlabel('Obtido')"
   ]
  },
  {
   "cell_type": "code",
   "execution_count": 28,
   "metadata": {},
   "outputs": [],
   "source": [
    "def fft(df, canal):\n",
    "    amostras_validas = df[canal][2000:11000]\n",
    "    amostras = int(amostras_validas.shape[0]*500/2000)\n",
    "    sinal = np.abs(np.fft.fft(amostras_validas))[:amostras]\n",
    "    freq = np.linspace(0,500,amostras)\n",
    "\n",
    "    return (sinal,freq)\n",
    "\n",
    "def frequecia(df, canal):\n",
    "    sinalFFT = [fft(data, canal)[0] for data in df]\n",
    "    return sinalFFT"
   ]
  },
  {
   "cell_type": "code",
   "execution_count": null,
   "metadata": {},
   "outputs": [],
   "source": []
  },
  {
   "cell_type": "code",
   "execution_count": 5,
   "metadata": {},
   "outputs": [],
   "source": [
    "nomes_parkinson = dadosPK('parkinson')\n",
    "nomes_controle = dadosPK('controle')\n",
    "df_ct = [ carregarDataFrame('controle', nome) for nome in nomes_controle]\n",
    "df_pk = [ carregarDataFrame('parkinson', nome) for nome in nomes_parkinson]"
   ]
  },
  {
   "cell_type": "markdown",
   "metadata": {},
   "source": [
    "# Filtrando os dados com a fft"
   ]
  },
  {
   "cell_type": "code",
   "execution_count": 34,
   "metadata": {},
   "outputs": [],
   "source": [
    "sinalCT = frequecia(df_ct, 'ch1')\n",
    "sinalPK = frequecia(df_pk, 'ch1')\n",
    "\n",
    "rotulosCT = [0 for _ in sinalCT]\n",
    "rotulosPK = [1 for _ in sinalPK]\n",
    "\n",
    "trainData = sinalCT + sinalPK\n",
    "rotulos = rotulosCT + rotulosPK"
   ]
  },
  {
   "cell_type": "code",
   "execution_count": 41,
   "metadata": {},
   "outputs": [
    {
     "name": "stdout",
     "output_type": "stream",
     "text": [
      "2250\n"
     ]
    },
    {
     "data": {
      "text/plain": [
       "array([7815.42222222,  726.16013322,  985.22650295, ...,  714.72759129,\n",
       "        182.35500781,  388.63330226])"
      ]
     },
     "execution_count": 41,
     "metadata": {},
     "output_type": "execute_result"
    }
   ],
   "source": [
    "print(len(trainData[0]))\n",
    "trainData[0]\n"
   ]
  },
  {
   "cell_type": "code",
   "execution_count": 46,
   "metadata": {},
   "outputs": [
    {
     "name": "stdout",
     "output_type": "stream",
     "text": [
      "2250\n"
     ]
    },
    {
     "data": {
      "text/plain": [
       "array([5522.85      ,  199.85632219,  323.18107796, ...,  420.63356811,\n",
       "        862.42914931,  727.50279608])"
      ]
     },
     "execution_count": 46,
     "metadata": {},
     "output_type": "execute_result"
    }
   ],
   "source": [
    "print(len(X_train[0]))\n",
    "X_train[0]"
   ]
  },
  {
   "cell_type": "code",
   "execution_count": 47,
   "metadata": {},
   "outputs": [
    {
     "name": "stdout",
     "output_type": "stream",
     "text": [
      "2250\n"
     ]
    },
    {
     "data": {
      "text/plain": [
       "array([3163.26976744,   35.21009018, 2499.18175935, ...,  633.30963496,\n",
       "        518.5572047 ,  254.36506494])"
      ]
     },
     "execution_count": 47,
     "metadata": {},
     "output_type": "execute_result"
    }
   ],
   "source": [
    "print(len(X_test[0]))\n",
    "X_test[0]"
   ]
  },
  {
   "cell_type": "code",
   "execution_count": 51,
   "metadata": {},
   "outputs": [
    {
     "data": {
      "text/plain": [
       "array([1])"
      ]
     },
     "execution_count": 51,
     "metadata": {},
     "output_type": "execute_result"
    }
   ],
   "source": [
    "grid.predict([X_test[0]])"
   ]
  },
  {
   "cell_type": "markdown",
   "metadata": {},
   "source": [
    "## Separando os dados (Treino, teste e validação)"
   ]
  },
  {
   "cell_type": "code",
   "execution_count": 7,
   "metadata": {},
   "outputs": [],
   "source": [
    "# Croos validation\n",
    "random_state = 32\n",
    "X_train, X_test, y_train, y_test = train_test_split(trainData, rotulos, test_size=0.3, random_state=random_state)\n",
    "X_validate, X_test, y_validade, y_test = train_test_split(X_test, y_test, test_size=0.5, random_state=random_state) #34,47,77, 9,"
   ]
  },
  {
   "cell_type": "markdown",
   "metadata": {},
   "source": [
    "# 1. SVM"
   ]
  },
  {
   "cell_type": "code",
   "execution_count": 8,
   "metadata": {},
   "outputs": [],
   "source": [
    "param_grid = [\n",
    "    {'C': [1], 'gamma': [0.2], 'kernel':['poly'], 'degree':[3]}\n",
    "]\n",
    "grid = GridSearchCV(SVC(random_state=random_state), param_grid, refit=True)"
   ]
  },
  {
   "cell_type": "code",
   "execution_count": 9,
   "metadata": {},
   "outputs": [
    {
     "name": "stdout",
     "output_type": "stream",
     "text": [
      "{'C': 1, 'degree': 3, 'gamma': 0.2, 'kernel': 'poly'}\n",
      "CPU times: user 39.5 ms, sys: 0 ns, total: 39.5 ms\n",
      "Wall time: 38.7 ms\n"
     ]
    }
   ],
   "source": [
    "%%time\n",
    "grid.fit(X_train, y_train)\n",
    "print(grid.best_params_)"
   ]
  },
  {
   "cell_type": "code",
   "execution_count": 10,
   "metadata": {},
   "outputs": [
    {
     "name": "stdout",
     "output_type": "stream",
     "text": [
      "             precision    recall  f1-score   support\n",
      "\n",
      "   controle       0.83      0.71      0.77         7\n",
      "  parkinson       0.71      0.83      0.77         6\n",
      "\n",
      "avg / total       0.78      0.77      0.77        13\n",
      "\n"
     ]
    },
    {
     "data": {
      "image/png": "[encoded data removed]",
      "text/plain": [
       "<Figure size 864x432 with 2 Axes>"
      ]
     },
     "metadata": {},
     "output_type": "display_data"
    }
   ],
   "source": [
    "nomes = ['controle','parkinson']\n",
    "y_pred = grid.predict(X_test)\n",
    "\n",
    "print(classification_report(y_pred, y_test,target_names=nomes))\n",
    "cnf_matrix = confusion_matrix(y_test, y_pred)\n",
    "plot_confusion_matrix(cnf_matrix, normalize=False, classes=nomes, title=\"Teste\")"
   ]
  },
  {
   "cell_type": "code",
   "execution_count": 11,
   "metadata": {},
   "outputs": [
    {
     "name": "stdout",
     "output_type": "stream",
     "text": [
      "             precision    recall  f1-score   support\n",
      "\n",
      "   controle       0.88      0.88      0.88         8\n",
      "  parkinson       0.80      0.80      0.80         5\n",
      "\n",
      "avg / total       0.85      0.85      0.85        13\n",
      "\n"
     ]
    },
    {
     "data": {
      "image/png": "[encoded data removed]",
      "text/plain": [
       "<Figure size 864x432 with 2 Axes>"
      ]
     },
     "metadata": {},
     "output_type": "display_data"
    }
   ],
   "source": [
    "y_predV = grid.predict(X_validate)\n",
    "print(classification_report(y_predV, y_validade,target_names=nomes))\n",
    "\n",
    "cnf_matrix = confusion_matrix(y_validade, y_predV)\n",
    "plot_confusion_matrix(cnf_matrix, normalize=False, classes=nomes, title=\"validação\")"
   ]
  },
  {
   "cell_type": "markdown",
   "metadata": {},
   "source": [
    "# 2. Randon Forest"
   ]
  },
  {
   "cell_type": "code",
   "execution_count": 12,
   "metadata": {},
   "outputs": [],
   "source": [
    "from sklearn.ensemble import RandomForestClassifier\n",
    "rfc = RandomForestClassifier(random_state=random_state)"
   ]
  },
  {
   "cell_type": "code",
   "execution_count": 13,
   "metadata": {},
   "outputs": [],
   "source": [
    "param_grid = [{\n",
    "    'n_estimators': [200, 100],\n",
    "    'max_features': ['log2','sqrt'],\n",
    "    'max_depth' : [5,None]\n",
    "}]\n"
   ]
  },
  {
   "cell_type": "code",
   "execution_count": 14,
   "metadata": {},
   "outputs": [],
   "source": [
    "CV_rfc = GridSearchCV(estimator=rfc, param_grid=param_grid)"
   ]
  },
  {
   "cell_type": "code",
   "execution_count": 15,
   "metadata": {},
   "outputs": [
    {
     "name": "stdout",
     "output_type": "stream",
     "text": [
      "{'max_depth': 5, 'max_features': 'log2', 'n_estimators': 200}\n",
      "CPU times: user 3.13 s, sys: 3.54 ms, total: 3.13 s\n",
      "Wall time: 2.92 s\n"
     ]
    }
   ],
   "source": [
    "%%time\n",
    "CV_rfc.fit(X_train, y_train)\n",
    "print(CV_rfc.best_params_)"
   ]
  },
  {
   "cell_type": "code",
   "execution_count": 16,
   "metadata": {},
   "outputs": [
    {
     "name": "stdout",
     "output_type": "stream",
     "text": [
      "             precision    recall  f1-score   support\n",
      "\n",
      "   controle       0.50      0.38      0.43         8\n",
      "  parkinson       0.29      0.40      0.33         5\n",
      "\n",
      "avg / total       0.42      0.38      0.39        13\n",
      "\n"
     ]
    },
    {
     "data": {
      "image/png": "[encoded data removed]",
      "text/plain": [
       "<Figure size 864x432 with 2 Axes>"
      ]
     },
     "metadata": {},
     "output_type": "display_data"
    }
   ],
   "source": [
    "y_pred = CV_rfc.predict(X_test)\n",
    "print(classification_report(y_pred, y_test,target_names=nomes))\n",
    "cnf_matrix = confusion_matrix(y_test, y_pred)\n",
    "plot_confusion_matrix(cnf_matrix, normalize=False, classes=nomes, title=\"Teste\")"
   ]
  },
  {
   "cell_type": "code",
   "execution_count": 17,
   "metadata": {},
   "outputs": [
    {
     "name": "stdout",
     "output_type": "stream",
     "text": [
      "             precision    recall  f1-score   support\n",
      "\n",
      "   controle       0.75      1.00      0.86         6\n",
      "  parkinson       1.00      0.71      0.83         7\n",
      "\n",
      "avg / total       0.88      0.85      0.84        13\n",
      "\n"
     ]
    },
    {
     "data": {
      "image/png": "[encoded data removed]",
      "text/plain": [
       "<Figure size 864x432 with 2 Axes>"
      ]
     },
     "metadata": {},
     "output_type": "display_data"
    }
   ],
   "source": [
    "y_predV = CV_rfc.predict(X_validate)\n",
    "print(classification_report(y_predV, y_validade,target_names=nomes))\n",
    "\n",
    "cnf_matrix = confusion_matrix(y_validade, y_predV)\n",
    "plot_confusion_matrix(cnf_matrix, normalize=False, classes=nomes, title=\"validação\")"
   ]
  },
  {
   "cell_type": "markdown",
   "metadata": {},
   "source": [
    "# 3. Nearest Neighbors"
   ]
  },
  {
   "cell_type": "code",
   "execution_count": 18,
   "metadata": {},
   "outputs": [],
   "source": [
    "from sklearn import neighbors"
   ]
  },
  {
   "cell_type": "code",
   "execution_count": 19,
   "metadata": {},
   "outputs": [],
   "source": [
    "param_grid = [\n",
    "    {'algorithm': ['auto'], 'leaf_size': [30], 'n_neighbors': [3], 'weights': ['uniform']}\n",
    "]"
   ]
  },
  {
   "cell_type": "code",
   "execution_count": 20,
   "metadata": {},
   "outputs": [],
   "source": [
    "knn = neighbors.KNeighborsClassifier()"
   ]
  },
  {
   "cell_type": "code",
   "execution_count": 21,
   "metadata": {},
   "outputs": [],
   "source": [
    "CV_knn = GridSearchCV(estimator=knn, param_grid=param_grid)"
   ]
  },
  {
   "cell_type": "code",
   "execution_count": 22,
   "metadata": {},
   "outputs": [
    {
     "name": "stdout",
     "output_type": "stream",
     "text": [
      "{'algorithm': 'auto', 'leaf_size': 30, 'n_neighbors': 3, 'weights': 'uniform'}\n",
      "CPU times: user 30.7 ms, sys: 3.99 ms, total: 34.7 ms\n",
      "Wall time: 33.8 ms\n"
     ]
    }
   ],
   "source": [
    "%%time\n",
    "CV_knn.fit(X_train, y_train)\n",
    "print(CV_knn.best_params_)"
   ]
  },
  {
   "cell_type": "code",
   "execution_count": 23,
   "metadata": {},
   "outputs": [
    {
     "name": "stdout",
     "output_type": "stream",
     "text": [
      "             precision    recall  f1-score   support\n",
      "\n",
      "   controle       0.83      0.45      0.59        11\n",
      "  parkinson       0.14      0.50      0.22         2\n",
      "\n",
      "avg / total       0.73      0.46      0.53        13\n",
      "\n"
     ]
    },
    {
     "data": {
      "image/png": "[encoded data removed]",
      "text/plain": [
       "<Figure size 864x432 with 2 Axes>"
      ]
     },
     "metadata": {},
     "output_type": "display_data"
    }
   ],
   "source": [
    "y_pred = CV_knn.predict(X_test)\n",
    "print(classification_report(y_pred, y_test,target_names=nomes))\n",
    "cnf_matrix = confusion_matrix(y_test, y_pred)\n",
    "plot_confusion_matrix(cnf_matrix, normalize=False, classes=nomes, title=\"Teste\")"
   ]
  },
  {
   "cell_type": "code",
   "execution_count": 24,
   "metadata": {},
   "outputs": [
    {
     "name": "stdout",
     "output_type": "stream",
     "text": [
      "             precision    recall  f1-score   support\n",
      "\n",
      "   controle       0.75      0.75      0.75         8\n",
      "  parkinson       0.60      0.60      0.60         5\n",
      "\n",
      "avg / total       0.69      0.69      0.69        13\n",
      "\n"
     ]
    },
    {
     "data": {
      "image/png": "[encoded data removed]",
      "text/plain": [
       "<Figure size 864x432 with 2 Axes>"
      ]
     },
     "metadata": {},
     "output_type": "display_data"
    }
   ],
   "source": [
    "y_predV = CV_knn.predict(X_validate)\n",
    "print(classification_report(y_predV, y_validade,target_names=nomes))\n",
    "\n",
    "cnf_matrix = confusion_matrix(y_validade, y_predV)\n",
    "plot_confusion_matrix(cnf_matrix, normalize=False, classes=nomes, title=\"validação\")"
   ]
  },
  {
   "cell_type": "markdown",
   "metadata": {},
   "source": [
    "# Range"
   ]
  },
  {
   "cell_type": "markdown",
   "metadata": {},
   "source": [
    "## Randon Forest"
   ]
  },
  {
   "cell_type": "code",
   "execution_count": 25,
   "metadata": {},
   "outputs": [
    {
     "name": "stdout",
     "output_type": "stream",
     "text": [
      "Fitting 3 folds for each of 1 candidates, totalling 3 fits\n",
      "[CV] max_depth=5, max_features=log2, n_estimators=100 ................\n",
      "[CV]  max_depth=5, max_features=log2, n_estimators=100, score=0.7, total=   0.1s\n",
      "[CV] max_depth=5, max_features=log2, n_estimators=100 ................\n",
      "[CV]  max_depth=5, max_features=log2, n_estimators=100, score=0.7894736842105263, total=   0.1s\n",
      "[CV] max_depth=5, max_features=log2, n_estimators=100 ................\n",
      "[CV]  max_depth=5, max_features=log2, n_estimators=100, score=0.8421052631578947, total=   0.1s\n"
     ]
    },
    {
     "name": "stderr",
     "output_type": "stream",
     "text": [
      "[Parallel(n_jobs=1)]: Done   1 out of   1 | elapsed:    0.1s remaining:    0.0s\n",
      "[Parallel(n_jobs=1)]: Done   2 out of   2 | elapsed:    0.2s remaining:    0.0s\n",
      "[Parallel(n_jobs=1)]: Done   3 out of   3 | elapsed:    0.2s finished\n"
     ]
    },
    {
     "name": "stdout",
     "output_type": "stream",
     "text": [
      "{'max_depth': 5, 'max_features': 'log2', 'n_estimators': 100}\n",
      "96#\n",
      "Teste\n",
      "             precision    recall  f1-score   support\n",
      "\n",
      "   controle       0.79      0.85      0.81        13\n",
      "  parkinson       0.83      0.77      0.80        13\n",
      "\n",
      "avg / total       0.81      0.81      0.81        26\n",
      "\n",
      "Validação\n",
      "Fitting 3 folds for each of 1 candidates, totalling 3 fits\n",
      "[CV] max_depth=5, max_features=log2, n_estimators=100 ................\n",
      "[CV]  max_depth=5, max_features=log2, n_estimators=100, score=0.6, total=   0.1s\n",
      "[CV] max_depth=5, max_features=log2, n_estimators=100 ................\n",
      "[CV]  max_depth=5, max_features=log2, n_estimators=100, score=0.7, total=   0.1s\n",
      "[CV] max_depth=5, max_features=log2, n_estimators=100 ................\n"
     ]
    },
    {
     "name": "stderr",
     "output_type": "stream",
     "text": [
      "[Parallel(n_jobs=1)]: Done   1 out of   1 | elapsed:    0.1s remaining:    0.0s\n",
      "[Parallel(n_jobs=1)]: Done   2 out of   2 | elapsed:    0.2s remaining:    0.0s\n",
      "[Parallel(n_jobs=1)]: Done   3 out of   3 | elapsed:    0.2s finished\n"
     ]
    },
    {
     "name": "stdout",
     "output_type": "stream",
     "text": [
      "[CV]  max_depth=5, max_features=log2, n_estimators=100, score=0.7222222222222222, total=   0.1s\n",
      "{'max_depth': 5, 'max_features': 'log2', 'n_estimators': 100}\n",
      "140#\n",
      "Teste\n",
      "             precision    recall  f1-score   support\n",
      "\n",
      "   controle       0.92      0.92      0.92        13\n",
      "  parkinson       0.92      0.92      0.92        13\n",
      "\n",
      "avg / total       0.92      0.92      0.92        26\n",
      "\n",
      "Validação\n"
     ]
    }
   ],
   "source": [
    "#best = [61,62,71,76,80,94,96,103,140,142,147,165,179,182,]\n",
    "best = [96,140]\n",
    "param_grid = [{\n",
    "    'n_estimators': [100],\n",
    "    'max_features': ['log2'],\n",
    "    'max_depth' : [5]\n",
    "    }]\n",
    "nomes = ['controle','parkinson']\n",
    "rfc = RandomForestClassifier(random_state=random_state)\n",
    "for i in best:\n",
    "    X_train, X_test, y_train, y_test = train_test_split(trainData, rotulos, test_size=0.3, random_state=i)\n",
    "    #X_test, X_validate, y_test, y_validade = train_test_split(X_test, y_test, test_size=0.5, random_state=i)\n",
    "    grid = GridSearchCV(rfc, param_grid, refit=True, verbose=3)\n",
    "    grid.fit(X_train, y_train)\n",
    "    y_pred = grid.predict(X_test)\n",
    "    #y_pred_val = grid.predict(X_validate)\n",
    "    print(grid.best_params_)\n",
    "    print(str(i)+\"#\")\n",
    "    print(\"Teste\")\n",
    "    print(classification_report(y_pred, y_test,target_names=nomes))\n",
    "    print(\"Validação\")\n",
    "    #print(classification_report(y_pred_val, y_validade,target_names=nomes))"
   ]
  },
  {
   "cell_type": "markdown",
   "metadata": {},
   "source": [
    "## SVM"
   ]
  },
  {
   "cell_type": "code",
   "execution_count": 26,
   "metadata": {},
   "outputs": [
    {
     "name": "stdout",
     "output_type": "stream",
     "text": [
      "Fitting 3 folds for each of 2 candidates, totalling 6 fits\n",
      "[CV] C=1, degree=3, gamma=0.2, kernel=poly ...........................\n",
      "[CV]  C=1, degree=3, gamma=0.2, kernel=poly, score=0.65, total=   0.0s\n",
      "[CV] C=1, degree=3, gamma=0.2, kernel=poly ...........................\n",
      "[CV]  C=1, degree=3, gamma=0.2, kernel=poly, score=0.7894736842105263, total=   0.0s\n",
      "[CV] C=1, degree=3, gamma=0.2, kernel=poly ...........................\n",
      "[CV]  C=1, degree=3, gamma=0.2, kernel=poly, score=0.631578947368421, total=   0.0s\n",
      "[CV] C=1, degree=4, gamma=0.2, kernel=poly ...........................\n",
      "[CV]  C=1, degree=4, gamma=0.2, kernel=poly, score=0.65, total=   0.0s\n",
      "[CV] C=1, degree=4, gamma=0.2, kernel=poly ...........................\n",
      "[CV]  C=1, degree=4, gamma=0.2, kernel=poly, score=0.7368421052631579, total=   0.0s\n",
      "[CV] C=1, degree=4, gamma=0.2, kernel=poly ...........................\n",
      "[CV]  C=1, degree=4, gamma=0.2, kernel=poly, score=0.7368421052631579, total=   0.0s\n",
      "{'C': 1, 'degree': 4, 'gamma': 0.2, 'kernel': 'poly'}\n",
      "77#\n",
      "Teste\n",
      "             precision    recall  f1-score   support\n",
      "\n",
      "   controle       0.89      0.57      0.70        14\n",
      "  parkinson       0.65      0.92      0.76        12\n",
      "\n",
      "avg / total       0.78      0.73      0.72        26\n",
      "\n",
      "Fitting 3 folds for each of 2 candidates, totalling 6 fits\n",
      "[CV] C=1, degree=3, gamma=0.2, kernel=poly ...........................\n",
      "[CV]  C=1, degree=3, gamma=0.2, kernel=poly, score=0.55, total=   0.0s\n",
      "[CV] C=1, degree=3, gamma=0.2, kernel=poly ...........................\n",
      "[CV]  C=1, degree=3, gamma=0.2, kernel=poly, score=0.7894736842105263, total=   0.0s\n",
      "[CV] C=1, degree=3, gamma=0.2, kernel=poly ...........................\n",
      "[CV]  C=1, degree=3, gamma=0.2, kernel=poly, score=0.5263157894736842, total=   0.0s\n",
      "[CV] C=1, degree=4, gamma=0.2, kernel=poly ...........................\n",
      "[CV] . C=1, degree=4, gamma=0.2, kernel=poly, score=0.5, total=   0.0s\n",
      "[CV] C=1, degree=4, gamma=0.2, kernel=poly ...........................\n",
      "[CV]  C=1, degree=4, gamma=0.2, kernel=poly, score=0.7368421052631579, total=   0.0s\n",
      "[CV] C=1, degree=4, gamma=0.2, kernel=poly ...........................\n",
      "[CV]  C=1, degree=4, gamma=0.2, kernel=poly, score=0.5789473684210527, total=   0.0s\n",
      "{'C': 1, 'degree': 3, 'gamma': 0.2, 'kernel': 'poly'}\n",
      "148#\n",
      "Teste\n",
      "             precision    recall  f1-score   support\n",
      "\n",
      "   controle       0.83      0.83      0.83        12\n",
      "  parkinson       0.86      0.86      0.86        14\n",
      "\n",
      "avg / total       0.85      0.85      0.85        26\n",
      "\n"
     ]
    },
    {
     "name": "stderr",
     "output_type": "stream",
     "text": [
      "[Parallel(n_jobs=1)]: Done   1 out of   1 | elapsed:    0.0s remaining:    0.0s\n",
      "[Parallel(n_jobs=1)]: Done   2 out of   2 | elapsed:    0.0s remaining:    0.0s\n",
      "[Parallel(n_jobs=1)]: Done   6 out of   6 | elapsed:    0.1s finished\n",
      "[Parallel(n_jobs=1)]: Done   1 out of   1 | elapsed:    0.0s remaining:    0.0s\n",
      "[Parallel(n_jobs=1)]: Done   2 out of   2 | elapsed:    0.0s remaining:    0.0s\n",
      "[Parallel(n_jobs=1)]: Done   6 out of   6 | elapsed:    0.0s finished\n"
     ]
    }
   ],
   "source": [
    "#best = [7,12,32,46,63,69,71,77,100,123,145,148,]\n",
    "#besti = [0,12,32,71,77,100,145,148,]\n",
    "best = [77,148,]\n",
    "param_grid = [\n",
    "    {'C': [1], 'gamma': [0.2], 'kernel':['poly'], 'degree':[3,4]}\n",
    "]\n",
    "\n",
    "for i in best:\n",
    "    X_train, X_test, y_train, y_test = train_test_split(trainData, rotulos, test_size=0.3, random_state=i)\n",
    "   # X_test, X_validate, y_test, y_validade = train_test_split(X_test, y_test, test_size=0.5, random_state=i)\n",
    "    svc = GridSearchCV(SVC(), param_grid, refit=True, verbose=3)\n",
    "    svc.fit(X_train, y_train)\n",
    "    y_pred = svc.predict(X_test)\n",
    "    #y_pred_val = svc.predict(X_validate)\n",
    "    print(svc.best_params_)\n",
    "    print(str(i)+\"#\")\n",
    "    print(\"Teste\")\n",
    "    print(classification_report(y_pred, y_test,target_names=nomes))\n",
    "    #print(\"Validação\")\n",
    "    #print(classification_report(y_pred_val, y_validade,target_names=nomes))"
   ]
  },
  {
   "cell_type": "markdown",
   "metadata": {},
   "source": [
    "## KNN"
   ]
  },
  {
   "cell_type": "code",
   "execution_count": 27,
   "metadata": {},
   "outputs": [
    {
     "name": "stdout",
     "output_type": "stream",
     "text": [
      "Fitting 3 folds for each of 1 candidates, totalling 3 fits\n",
      "[CV] algorithm=auto, leaf_size=30, n_neighbors=3, weights=uniform ....\n",
      "[CV]  algorithm=auto, leaf_size=30, n_neighbors=3, weights=uniform, score=0.8, total=   0.0s\n",
      "[CV] algorithm=auto, leaf_size=30, n_neighbors=3, weights=uniform ....\n",
      "[CV]  algorithm=auto, leaf_size=30, n_neighbors=3, weights=uniform, score=0.631578947368421, total=   0.0s\n",
      "[CV] algorithm=auto, leaf_size=30, n_neighbors=3, weights=uniform ....\n",
      "[CV]  algorithm=auto, leaf_size=30, n_neighbors=3, weights=uniform, score=0.631578947368421, total=   0.0s\n",
      "{'algorithm': 'auto', 'leaf_size': 30, 'n_neighbors': 3, 'weights': 'uniform'}\n",
      "31#\n",
      "Teste\n",
      "             precision    recall  f1-score   support\n",
      "\n",
      "   controle       0.53      0.69      0.60        13\n",
      "  parkinson       0.56      0.38      0.45        13\n",
      "\n",
      "avg / total       0.54      0.54      0.53        26\n",
      "\n",
      "Fitting 3 folds for each of 1 candidates, totalling 3 fits\n",
      "[CV] algorithm=auto, leaf_size=30, n_neighbors=3, weights=uniform ....\n",
      "[CV]  algorithm=auto, leaf_size=30, n_neighbors=3, weights=uniform, score=0.65, total=   0.0s\n",
      "[CV] algorithm=auto, leaf_size=30, n_neighbors=3, weights=uniform ....\n",
      "[CV]  algorithm=auto, leaf_size=30, n_neighbors=3, weights=uniform, score=0.42105263157894735, total=   0.0s\n",
      "[CV] algorithm=auto, leaf_size=30, n_neighbors=3, weights=uniform ....\n",
      "[CV]  algorithm=auto, leaf_size=30, n_neighbors=3, weights=uniform, score=0.631578947368421, total=   0.0s\n",
      "{'algorithm': 'auto', 'leaf_size': 30, 'n_neighbors': 3, 'weights': 'uniform'}\n",
      "117#\n",
      "Teste\n",
      "             precision    recall  f1-score   support\n",
      "\n",
      "   controle       0.87      0.72      0.79        18\n",
      "  parkinson       0.55      0.75      0.63         8\n",
      "\n",
      "avg / total       0.77      0.73      0.74        26\n",
      "\n"
     ]
    },
    {
     "name": "stderr",
     "output_type": "stream",
     "text": [
      "[Parallel(n_jobs=1)]: Done   1 out of   1 | elapsed:    0.0s remaining:    0.0s\n",
      "[Parallel(n_jobs=1)]: Done   2 out of   2 | elapsed:    0.0s remaining:    0.0s\n",
      "[Parallel(n_jobs=1)]: Done   3 out of   3 | elapsed:    0.0s finished\n",
      "[Parallel(n_jobs=1)]: Done   1 out of   1 | elapsed:    0.0s remaining:    0.0s\n",
      "[Parallel(n_jobs=1)]: Done   2 out of   2 | elapsed:    0.0s remaining:    0.0s\n",
      "[Parallel(n_jobs=1)]: Done   3 out of   3 | elapsed:    0.0s finished\n"
     ]
    }
   ],
   "source": [
    "param_grid = [\n",
    "    {'algorithm': ['auto'], 'leaf_size': [30], 'n_neighbors': [3], 'weights': ['uniform']}\n",
    "]\n",
    "best = [31,117]\n",
    "for i in best:\n",
    "    X_train, X_test, y_train, y_test = train_test_split(trainData, rotulos, test_size=0.3, random_state=i)\n",
    "   # X_test, X_validate, y_test, y_validade = train_test_split(X_test, y_test, test_size=0.5, random_state=i)\n",
    "    knn = GridSearchCV(neighbors.KNeighborsClassifier(), param_grid, refit=True, verbose=3)\n",
    "    knn.fit(X_train, y_train)\n",
    "    y_pred = knn.predict(X_test)\n",
    "    #y_pred_val = svc.predict(X_validate)\n",
    "    print(knn.best_params_)\n",
    "    print(str(i)+\"#\")\n",
    "    print(\"Teste\")\n",
    "    print(classification_report(y_pred, y_test,target_names=nomes))\n",
    "    #print(\"Validação\")\n",
    "    #print(classification_report(y_pred_val, y_validade,target_names=nomes))\n"
   ]
  }
 ],
 "metadata": {
  "kernelspec": {
   "display_name": "Python 3",
   "language": "python",
   "name": "python3"
  },
  "language_info": {
   "codemirror_mode": {
    "name": "ipython",
    "version": 3
   },
   "file_extension": ".py",
   "mimetype": "text/x-python",
   "name": "python",
   "nbconvert_exporter": "python",
   "pygments_lexer": "ipython3",
   "version": "3.6.5"
  }
 },
 "nbformat": 4,
 "nbformat_minor": 2
}
